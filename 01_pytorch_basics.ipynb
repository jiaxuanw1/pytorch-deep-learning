{
  "nbformat": 4,
  "nbformat_minor": 0,
  "metadata": {
    "colab": {
      "provenance": [],
      "authorship_tag": "ABX9TyMMyTjiAezJS9LUYEFvpobd"
    },
    "kernelspec": {
      "name": "python3",
      "display_name": "Python 3"
    },
    "language_info": {
      "name": "python"
    }
  },
  "cells": [
    {
      "cell_type": "code",
      "source": [
        "import torch"
      ],
      "metadata": {
        "id": "JVC940o0vv75"
      },
      "execution_count": 1,
      "outputs": []
    },
    {
      "cell_type": "markdown",
      "source": [
        "**Tensors**\n",
        "- PyTorch is a library for processing tensors\n",
        "- Tensor is a general version of number/vector/matrix/n-dimensional array"
      ],
      "metadata": {
        "id": "VGsRYXW9wVzD"
      }
    },
    {
      "cell_type": "code",
      "source": [
        "# 4. is short for 4.0, tells python and pytorch to create a floating point number\n",
        "t1 = torch.tensor(4.)\n",
        "t1"
      ],
      "metadata": {
        "colab": {
          "base_uri": "https://localhost:8080/"
        },
        "id": "RkVwbcszwgU8",
        "outputId": "d6ce4def-8f99-42c2-8785-8269de39354f"
      },
      "execution_count": 2,
      "outputs": [
        {
          "output_type": "execute_result",
          "data": {
            "text/plain": [
              "tensor(4.)"
            ]
          },
          "metadata": {},
          "execution_count": 2
        }
      ]
    },
    {
      "cell_type": "code",
      "source": [
        "# check type of tensor\n",
        "t1.dtype"
      ],
      "metadata": {
        "colab": {
          "base_uri": "https://localhost:8080/"
        },
        "id": "0nzzdoGyxXow",
        "outputId": "bd1a14d3-8479-4896-a1f3-715015df97aa"
      },
      "execution_count": 3,
      "outputs": [
        {
          "output_type": "execute_result",
          "data": {
            "text/plain": [
              "torch.float32"
            ]
          },
          "metadata": {},
          "execution_count": 3
        }
      ]
    },
    {
      "cell_type": "code",
      "source": [
        "# vector\n",
        "t2 = torch.tensor([1., 2, 3, 4])\n",
        "# all elements of tensor must have same data type, so 1. causes all elements\n",
        "# to be floating point\n",
        "t2"
      ],
      "metadata": {
        "colab": {
          "base_uri": "https://localhost:8080/"
        },
        "id": "EcLGEqIvxfMl",
        "outputId": "333d5216-a242-4c36-967b-b1024b81cdf5"
      },
      "execution_count": 4,
      "outputs": [
        {
          "output_type": "execute_result",
          "data": {
            "text/plain": [
              "tensor([1., 2., 3., 4.])"
            ]
          },
          "metadata": {},
          "execution_count": 4
        }
      ]
    },
    {
      "cell_type": "code",
      "source": [
        "# matrix\n",
        "t3 = torch.tensor([[5., 6],\n",
        "                  [7, 8],\n",
        "                  [9, 10]])\n",
        "t3"
      ],
      "metadata": {
        "colab": {
          "base_uri": "https://localhost:8080/"
        },
        "id": "QYEkIirXxz9U",
        "outputId": "413bd38c-068c-409f-a11e-766e89cedd1b"
      },
      "execution_count": 5,
      "outputs": [
        {
          "output_type": "execute_result",
          "data": {
            "text/plain": [
              "tensor([[ 5.,  6.],\n",
              "        [ 7.,  8.],\n",
              "        [ 9., 10.]])"
            ]
          },
          "metadata": {},
          "execution_count": 5
        }
      ]
    },
    {
      "cell_type": "code",
      "source": [
        "# 3d tensor\n",
        "t4 = torch.tensor([\n",
        "    [[11, 12, 13],\n",
        "     [13, 14, 15]],\n",
        "    [[15, 16, 17],\n",
        "     [17, 18, 19]]])\n",
        "# shape must be regular - all lists in a given dimension must have same length\n",
        "t4"
      ],
      "metadata": {
        "colab": {
          "base_uri": "https://localhost:8080/"
        },
        "id": "3wOHTA-bx7V3",
        "outputId": "387466a4-b4a1-4c15-98f8-e124e2861fa8"
      },
      "execution_count": 6,
      "outputs": [
        {
          "output_type": "execute_result",
          "data": {
            "text/plain": [
              "tensor([[[11, 12, 13],\n",
              "         [13, 14, 15]],\n",
              "\n",
              "        [[15, 16, 17],\n",
              "         [17, 18, 19]]])"
            ]
          },
          "metadata": {},
          "execution_count": 6
        }
      ]
    },
    {
      "cell_type": "code",
      "source": [
        "# tensors can have any number of dimensions and lengths along each dimension\n",
        "# .shape gives length along each dimension\n",
        "\n",
        "print(t1) # scalar\n",
        "t1.shape"
      ],
      "metadata": {
        "colab": {
          "base_uri": "https://localhost:8080/"
        },
        "id": "a9HmcvfDyypo",
        "outputId": "92a5ebe5-caf9-4cab-bb2d-066509e1dd14"
      },
      "execution_count": 7,
      "outputs": [
        {
          "output_type": "stream",
          "name": "stdout",
          "text": [
            "tensor(4.)\n"
          ]
        },
        {
          "output_type": "execute_result",
          "data": {
            "text/plain": [
              "torch.Size([])"
            ]
          },
          "metadata": {},
          "execution_count": 7
        }
      ]
    },
    {
      "cell_type": "code",
      "source": [
        "print(t2) # vector\n",
        "t2.shape"
      ],
      "metadata": {
        "colab": {
          "base_uri": "https://localhost:8080/"
        },
        "id": "5Or09HQLzn3U",
        "outputId": "b030e259-cf4a-4def-c834-e399e024bb76"
      },
      "execution_count": 8,
      "outputs": [
        {
          "output_type": "stream",
          "name": "stdout",
          "text": [
            "tensor([1., 2., 3., 4.])\n"
          ]
        },
        {
          "output_type": "execute_result",
          "data": {
            "text/plain": [
              "torch.Size([4])"
            ]
          },
          "metadata": {},
          "execution_count": 8
        }
      ]
    },
    {
      "cell_type": "code",
      "source": [
        "print(t3) # matrix\n",
        "t3.shape"
      ],
      "metadata": {
        "colab": {
          "base_uri": "https://localhost:8080/"
        },
        "id": "5jVlRQ66z0fQ",
        "outputId": "65c09121-2d35-4a74-ab4e-82fec48c3225"
      },
      "execution_count": 9,
      "outputs": [
        {
          "output_type": "stream",
          "name": "stdout",
          "text": [
            "tensor([[ 5.,  6.],\n",
            "        [ 7.,  8.],\n",
            "        [ 9., 10.]])\n"
          ]
        },
        {
          "output_type": "execute_result",
          "data": {
            "text/plain": [
              "torch.Size([3, 2])"
            ]
          },
          "metadata": {},
          "execution_count": 9
        }
      ]
    },
    {
      "cell_type": "code",
      "source": [
        "print(t4) # 3d\n",
        "t4.shape"
      ],
      "metadata": {
        "colab": {
          "base_uri": "https://localhost:8080/"
        },
        "id": "0njGkba00Au_",
        "outputId": "7e9bb14a-3a13-49dc-91e5-543d9413ff54"
      },
      "execution_count": 10,
      "outputs": [
        {
          "output_type": "stream",
          "name": "stdout",
          "text": [
            "tensor([[[11, 12, 13],\n",
            "         [13, 14, 15]],\n",
            "\n",
            "        [[15, 16, 17],\n",
            "         [17, 18, 19]]])\n"
          ]
        },
        {
          "output_type": "execute_result",
          "data": {
            "text/plain": [
              "torch.Size([2, 2, 3])"
            ]
          },
          "metadata": {},
          "execution_count": 10
        }
      ]
    },
    {
      "cell_type": "markdown",
      "source": [
        "**Tensor operations and gradients**"
      ],
      "metadata": {
        "id": "1b0ZqNPx0-hY"
      }
    },
    {
      "cell_type": "code",
      "source": [
        "# can combine tensors with arithmetic operators\n",
        "x = torch.tensor(3.)\n",
        "w = torch.tensor(4., requires_grad=True)\n",
        "b = torch.tensor(5., requires_grad=True)\n",
        "x,w,b"
      ],
      "metadata": {
        "colab": {
          "base_uri": "https://localhost:8080/"
        },
        "id": "4ye3xwSU1vNv",
        "outputId": "0eac1bb2-2d2d-49d2-f131-3ac776aa2e44"
      },
      "execution_count": 11,
      "outputs": [
        {
          "output_type": "execute_result",
          "data": {
            "text/plain": [
              "(tensor(3.), tensor(4., requires_grad=True), tensor(5., requires_grad=True))"
            ]
          },
          "metadata": {},
          "execution_count": 11
        }
      ]
    },
    {
      "cell_type": "code",
      "source": [
        "# arithmetic operations as if w,x,b were regular numbers\n",
        "y = w * x + b\n",
        "y"
      ],
      "metadata": {
        "colab": {
          "base_uri": "https://localhost:8080/"
        },
        "id": "ZH-xUt_-2FUe",
        "outputId": "943e6b02-541c-456d-fa11-a38ad45fe733"
      },
      "execution_count": 12,
      "outputs": [
        {
          "output_type": "execute_result",
          "data": {
            "text/plain": [
              "tensor(17., grad_fn=<AddBackward0>)"
            ]
          },
          "metadata": {},
          "execution_count": 12
        }
      ]
    },
    {
      "cell_type": "code",
      "source": [
        "# pytorch can automatically compute derivatives of tensors\n",
        "\n",
        "# .backward() calculates derivative of y w.r.t. tensors w/ requires_grad=True\n",
        "y.backward()\n",
        "\n",
        "# derivatives of y are stored in .grad property of the respective tensors\n",
        "print('dy/dx:', x.grad) # dy/dx = None - x doesn't have requires_grad=True\n",
        "print('dy/dw:', w.grad) # dy/dw = x = 3\n",
        "print('dy/db:', b.grad) # dy/db = 1\n",
        "\n",
        "# .grad stands for gradient (as in derivative)"
      ],
      "metadata": {
        "colab": {
          "base_uri": "https://localhost:8080/"
        },
        "id": "QbZlhOsq2SN4",
        "outputId": "2a811f31-5b3f-4cc2-e31d-ccb552e32c1e"
      },
      "execution_count": 13,
      "outputs": [
        {
          "output_type": "stream",
          "name": "stdout",
          "text": [
            "dy/dx: None\n",
            "dy/dw: tensor(3.)\n",
            "dy/db: tensor(1.)\n"
          ]
        }
      ]
    },
    {
      "cell_type": "code",
      "source": [
        "# create tensors using vectors\n",
        "x = torch.tensor([1., 2, 3])\n",
        "w = torch.tensor([4., 5, 6], requires_grad=True)\n",
        "b = torch.tensor([7., 8, 9], requires_grad=True)\n",
        "\n",
        "# x,w,b must be have same shape\n",
        "# operations are performed entry-wise\n",
        "y = w * x + b\n",
        "# so y = [4*1+7, 5*2+8, 6*3+9] = [11, 18, 27]\n",
        "y\n",
        "\n",
        "# to take derivatives w.r.t. non-scalar tensors, must specify gradient parameter\n",
        "# with a tensor of appropriate size\n",
        "y.backward(gradient=torch.tensor([1., 1., 1.]))\n",
        "\n",
        "print('dy/dx:', x.grad) # dy/dx = None - x doesn't have requires_grad=True\n",
        "print('dy/dw:', w.grad) # dy/dw = x = [1,2,3]\n",
        "print('dy/db:', b.grad) # dy/db = 1 = [1,1,1]"
      ],
      "metadata": {
        "id": "zzL-8IQs9w7K",
        "colab": {
          "base_uri": "https://localhost:8080/"
        },
        "outputId": "c17a05d5-952a-4e65-a1dd-5aba0052bcd0"
      },
      "execution_count": 14,
      "outputs": [
        {
          "output_type": "stream",
          "name": "stdout",
          "text": [
            "dy/dx: None\n",
            "dy/dw: tensor([1., 2., 3.])\n",
            "dy/db: tensor([1., 1., 1.])\n"
          ]
        }
      ]
    },
    {
      "cell_type": "markdown",
      "source": [
        "**Interoperability with Numpy**\n",
        "- Popular open source library for math and science\n",
        "- Efficient operations on large multi-dimensional arrays\n",
        "- Large ecosystem of supporting libraries:\n",
        "  - Matplotlib - plotting and visualization\n",
        "  - OpenCV - image/video processing\n",
        "  - Pandas - file I/O, data analysis\n",
        "- PyTorch interoperates w/ Numpy"
      ],
      "metadata": {
        "id": "ynOIfMZO5J6z"
      }
    },
    {
      "cell_type": "code",
      "source": [
        "import numpy as np"
      ],
      "metadata": {
        "id": "tjBhpfH95QFE"
      },
      "execution_count": 15,
      "outputs": []
    },
    {
      "cell_type": "code",
      "source": [
        "# create array in numpy\n",
        "x = np.array([[1, 2], \n",
        "              [3, 4.]])\n",
        "# notice that once again, all data types must be the same\n",
        "# the 4. causes all entries to be converted to floating point\n",
        "x"
      ],
      "metadata": {
        "colab": {
          "base_uri": "https://localhost:8080/"
        },
        "id": "KIbSM2mb6u6o",
        "outputId": "de7c535c-b4e2-4adc-d004-037fab4604c3"
      },
      "execution_count": 16,
      "outputs": [
        {
          "output_type": "execute_result",
          "data": {
            "text/plain": [
              "array([[1., 2.],\n",
              "       [3., 4.]])"
            ]
          },
          "metadata": {},
          "execution_count": 16
        }
      ]
    },
    {
      "cell_type": "code",
      "source": [
        "# convert numpy array to pytorch tensor\n",
        "y = torch.from_numpy(x)\n",
        "y"
      ],
      "metadata": {
        "colab": {
          "base_uri": "https://localhost:8080/"
        },
        "id": "eVPezb0k7CoZ",
        "outputId": "c95412c1-4bb5-4ebc-8055-ff55ccd61aac"
      },
      "execution_count": 17,
      "outputs": [
        {
          "output_type": "execute_result",
          "data": {
            "text/plain": [
              "tensor([[1., 2.],\n",
              "        [3., 4.]], dtype=torch.float64)"
            ]
          },
          "metadata": {},
          "execution_count": 17
        }
      ]
    },
    {
      "cell_type": "code",
      "source": [
        "# convert pytorch tensor to numpy array\n",
        "z = y.numpy()\n",
        "z"
      ],
      "metadata": {
        "colab": {
          "base_uri": "https://localhost:8080/"
        },
        "id": "bQHRAZpg7Jq6",
        "outputId": "1a85d6fe-f1ad-4fc5-e9d7-e03a969ec320"
      },
      "execution_count": 18,
      "outputs": [
        {
          "output_type": "execute_result",
          "data": {
            "text/plain": [
              "array([[1., 2.],\n",
              "       [3., 4.]])"
            ]
          },
          "metadata": {},
          "execution_count": 18
        }
      ]
    }
  ]
}