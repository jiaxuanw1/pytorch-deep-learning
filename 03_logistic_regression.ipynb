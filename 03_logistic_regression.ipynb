{
  "nbformat": 4,
  "nbformat_minor": 0,
  "metadata": {
    "colab": {
      "provenance": [],
      "authorship_tag": "ABX9TyPjBzJ6N3vh1BO1P+UredAO"
    },
    "kernelspec": {
      "name": "python3",
      "display_name": "Python 3"
    },
    "language_info": {
      "name": "python"
    },
    "widgets": {
      "application/vnd.jupyter.widget-state+json": {
        "6e2b8b4bd1324f7cbcc360c7d0eddd05": {
          "model_module": "@jupyter-widgets/controls",
          "model_name": "HBoxModel",
          "model_module_version": "1.5.0",
          "state": {
            "_dom_classes": [],
            "_model_module": "@jupyter-widgets/controls",
            "_model_module_version": "1.5.0",
            "_model_name": "HBoxModel",
            "_view_count": null,
            "_view_module": "@jupyter-widgets/controls",
            "_view_module_version": "1.5.0",
            "_view_name": "HBoxView",
            "box_style": "",
            "children": [
              "IPY_MODEL_35c46dcfeac442aeae8e22e497689f4e",
              "IPY_MODEL_014b36d30ab04b09bebb37cffcae90fb",
              "IPY_MODEL_051b0acb24a8407082d3a3e42362f1b2"
            ],
            "layout": "IPY_MODEL_05d4c8a3c20a411099caddce2e9c0db9"
          }
        },
        "35c46dcfeac442aeae8e22e497689f4e": {
          "model_module": "@jupyter-widgets/controls",
          "model_name": "HTMLModel",
          "model_module_version": "1.5.0",
          "state": {
            "_dom_classes": [],
            "_model_module": "@jupyter-widgets/controls",
            "_model_module_version": "1.5.0",
            "_model_name": "HTMLModel",
            "_view_count": null,
            "_view_module": "@jupyter-widgets/controls",
            "_view_module_version": "1.5.0",
            "_view_name": "HTMLView",
            "description": "",
            "description_tooltip": null,
            "layout": "IPY_MODEL_b653eaae1e474c928875b9f774924123",
            "placeholder": "​",
            "style": "IPY_MODEL_83ce36eb2430487bb77b19c4ab44e3fb",
            "value": "100%"
          }
        },
        "014b36d30ab04b09bebb37cffcae90fb": {
          "model_module": "@jupyter-widgets/controls",
          "model_name": "FloatProgressModel",
          "model_module_version": "1.5.0",
          "state": {
            "_dom_classes": [],
            "_model_module": "@jupyter-widgets/controls",
            "_model_module_version": "1.5.0",
            "_model_name": "FloatProgressModel",
            "_view_count": null,
            "_view_module": "@jupyter-widgets/controls",
            "_view_module_version": "1.5.0",
            "_view_name": "ProgressView",
            "bar_style": "success",
            "description": "",
            "description_tooltip": null,
            "layout": "IPY_MODEL_1bac69286a2e4a5eb42cdd626e1360bc",
            "max": 9912422,
            "min": 0,
            "orientation": "horizontal",
            "style": "IPY_MODEL_5fd194bcf28a42daac87b0481093befb",
            "value": 9912422
          }
        },
        "051b0acb24a8407082d3a3e42362f1b2": {
          "model_module": "@jupyter-widgets/controls",
          "model_name": "HTMLModel",
          "model_module_version": "1.5.0",
          "state": {
            "_dom_classes": [],
            "_model_module": "@jupyter-widgets/controls",
            "_model_module_version": "1.5.0",
            "_model_name": "HTMLModel",
            "_view_count": null,
            "_view_module": "@jupyter-widgets/controls",
            "_view_module_version": "1.5.0",
            "_view_name": "HTMLView",
            "description": "",
            "description_tooltip": null,
            "layout": "IPY_MODEL_eb98b1695330406ea45daac378a7e796",
            "placeholder": "​",
            "style": "IPY_MODEL_97521b47532448448ea9bef9f2424b12",
            "value": " 9912422/9912422 [00:00&lt;00:00, 33644306.88it/s]"
          }
        },
        "05d4c8a3c20a411099caddce2e9c0db9": {
          "model_module": "@jupyter-widgets/base",
          "model_name": "LayoutModel",
          "model_module_version": "1.2.0",
          "state": {
            "_model_module": "@jupyter-widgets/base",
            "_model_module_version": "1.2.0",
            "_model_name": "LayoutModel",
            "_view_count": null,
            "_view_module": "@jupyter-widgets/base",
            "_view_module_version": "1.2.0",
            "_view_name": "LayoutView",
            "align_content": null,
            "align_items": null,
            "align_self": null,
            "border": null,
            "bottom": null,
            "display": null,
            "flex": null,
            "flex_flow": null,
            "grid_area": null,
            "grid_auto_columns": null,
            "grid_auto_flow": null,
            "grid_auto_rows": null,
            "grid_column": null,
            "grid_gap": null,
            "grid_row": null,
            "grid_template_areas": null,
            "grid_template_columns": null,
            "grid_template_rows": null,
            "height": null,
            "justify_content": null,
            "justify_items": null,
            "left": null,
            "margin": null,
            "max_height": null,
            "max_width": null,
            "min_height": null,
            "min_width": null,
            "object_fit": null,
            "object_position": null,
            "order": null,
            "overflow": null,
            "overflow_x": null,
            "overflow_y": null,
            "padding": null,
            "right": null,
            "top": null,
            "visibility": null,
            "width": null
          }
        },
        "b653eaae1e474c928875b9f774924123": {
          "model_module": "@jupyter-widgets/base",
          "model_name": "LayoutModel",
          "model_module_version": "1.2.0",
          "state": {
            "_model_module": "@jupyter-widgets/base",
            "_model_module_version": "1.2.0",
            "_model_name": "LayoutModel",
            "_view_count": null,
            "_view_module": "@jupyter-widgets/base",
            "_view_module_version": "1.2.0",
            "_view_name": "LayoutView",
            "align_content": null,
            "align_items": null,
            "align_self": null,
            "border": null,
            "bottom": null,
            "display": null,
            "flex": null,
            "flex_flow": null,
            "grid_area": null,
            "grid_auto_columns": null,
            "grid_auto_flow": null,
            "grid_auto_rows": null,
            "grid_column": null,
            "grid_gap": null,
            "grid_row": null,
            "grid_template_areas": null,
            "grid_template_columns": null,
            "grid_template_rows": null,
            "height": null,
            "justify_content": null,
            "justify_items": null,
            "left": null,
            "margin": null,
            "max_height": null,
            "max_width": null,
            "min_height": null,
            "min_width": null,
            "object_fit": null,
            "object_position": null,
            "order": null,
            "overflow": null,
            "overflow_x": null,
            "overflow_y": null,
            "padding": null,
            "right": null,
            "top": null,
            "visibility": null,
            "width": null
          }
        },
        "83ce36eb2430487bb77b19c4ab44e3fb": {
          "model_module": "@jupyter-widgets/controls",
          "model_name": "DescriptionStyleModel",
          "model_module_version": "1.5.0",
          "state": {
            "_model_module": "@jupyter-widgets/controls",
            "_model_module_version": "1.5.0",
            "_model_name": "DescriptionStyleModel",
            "_view_count": null,
            "_view_module": "@jupyter-widgets/base",
            "_view_module_version": "1.2.0",
            "_view_name": "StyleView",
            "description_width": ""
          }
        },
        "1bac69286a2e4a5eb42cdd626e1360bc": {
          "model_module": "@jupyter-widgets/base",
          "model_name": "LayoutModel",
          "model_module_version": "1.2.0",
          "state": {
            "_model_module": "@jupyter-widgets/base",
            "_model_module_version": "1.2.0",
            "_model_name": "LayoutModel",
            "_view_count": null,
            "_view_module": "@jupyter-widgets/base",
            "_view_module_version": "1.2.0",
            "_view_name": "LayoutView",
            "align_content": null,
            "align_items": null,
            "align_self": null,
            "border": null,
            "bottom": null,
            "display": null,
            "flex": null,
            "flex_flow": null,
            "grid_area": null,
            "grid_auto_columns": null,
            "grid_auto_flow": null,
            "grid_auto_rows": null,
            "grid_column": null,
            "grid_gap": null,
            "grid_row": null,
            "grid_template_areas": null,
            "grid_template_columns": null,
            "grid_template_rows": null,
            "height": null,
            "justify_content": null,
            "justify_items": null,
            "left": null,
            "margin": null,
            "max_height": null,
            "max_width": null,
            "min_height": null,
            "min_width": null,
            "object_fit": null,
            "object_position": null,
            "order": null,
            "overflow": null,
            "overflow_x": null,
            "overflow_y": null,
            "padding": null,
            "right": null,
            "top": null,
            "visibility": null,
            "width": null
          }
        },
        "5fd194bcf28a42daac87b0481093befb": {
          "model_module": "@jupyter-widgets/controls",
          "model_name": "ProgressStyleModel",
          "model_module_version": "1.5.0",
          "state": {
            "_model_module": "@jupyter-widgets/controls",
            "_model_module_version": "1.5.0",
            "_model_name": "ProgressStyleModel",
            "_view_count": null,
            "_view_module": "@jupyter-widgets/base",
            "_view_module_version": "1.2.0",
            "_view_name": "StyleView",
            "bar_color": null,
            "description_width": ""
          }
        },
        "eb98b1695330406ea45daac378a7e796": {
          "model_module": "@jupyter-widgets/base",
          "model_name": "LayoutModel",
          "model_module_version": "1.2.0",
          "state": {
            "_model_module": "@jupyter-widgets/base",
            "_model_module_version": "1.2.0",
            "_model_name": "LayoutModel",
            "_view_count": null,
            "_view_module": "@jupyter-widgets/base",
            "_view_module_version": "1.2.0",
            "_view_name": "LayoutView",
            "align_content": null,
            "align_items": null,
            "align_self": null,
            "border": null,
            "bottom": null,
            "display": null,
            "flex": null,
            "flex_flow": null,
            "grid_area": null,
            "grid_auto_columns": null,
            "grid_auto_flow": null,
            "grid_auto_rows": null,
            "grid_column": null,
            "grid_gap": null,
            "grid_row": null,
            "grid_template_areas": null,
            "grid_template_columns": null,
            "grid_template_rows": null,
            "height": null,
            "justify_content": null,
            "justify_items": null,
            "left": null,
            "margin": null,
            "max_height": null,
            "max_width": null,
            "min_height": null,
            "min_width": null,
            "object_fit": null,
            "object_position": null,
            "order": null,
            "overflow": null,
            "overflow_x": null,
            "overflow_y": null,
            "padding": null,
            "right": null,
            "top": null,
            "visibility": null,
            "width": null
          }
        },
        "97521b47532448448ea9bef9f2424b12": {
          "model_module": "@jupyter-widgets/controls",
          "model_name": "DescriptionStyleModel",
          "model_module_version": "1.5.0",
          "state": {
            "_model_module": "@jupyter-widgets/controls",
            "_model_module_version": "1.5.0",
            "_model_name": "DescriptionStyleModel",
            "_view_count": null,
            "_view_module": "@jupyter-widgets/base",
            "_view_module_version": "1.2.0",
            "_view_name": "StyleView",
            "description_width": ""
          }
        },
        "d1a4167843214c058425ed340f5189a4": {
          "model_module": "@jupyter-widgets/controls",
          "model_name": "HBoxModel",
          "model_module_version": "1.5.0",
          "state": {
            "_dom_classes": [],
            "_model_module": "@jupyter-widgets/controls",
            "_model_module_version": "1.5.0",
            "_model_name": "HBoxModel",
            "_view_count": null,
            "_view_module": "@jupyter-widgets/controls",
            "_view_module_version": "1.5.0",
            "_view_name": "HBoxView",
            "box_style": "",
            "children": [
              "IPY_MODEL_f896b85ca592460f818e8179da50f103",
              "IPY_MODEL_07029e9d20b84d0e9c748e7d0be23b8e",
              "IPY_MODEL_d047e7833985433680dae9a54586f4b8"
            ],
            "layout": "IPY_MODEL_c308df230bdc44e0871b90c823f2da1b"
          }
        },
        "f896b85ca592460f818e8179da50f103": {
          "model_module": "@jupyter-widgets/controls",
          "model_name": "HTMLModel",
          "model_module_version": "1.5.0",
          "state": {
            "_dom_classes": [],
            "_model_module": "@jupyter-widgets/controls",
            "_model_module_version": "1.5.0",
            "_model_name": "HTMLModel",
            "_view_count": null,
            "_view_module": "@jupyter-widgets/controls",
            "_view_module_version": "1.5.0",
            "_view_name": "HTMLView",
            "description": "",
            "description_tooltip": null,
            "layout": "IPY_MODEL_6954ac77fe9c4c649064b3afaecbb8b2",
            "placeholder": "​",
            "style": "IPY_MODEL_603f9d586ae94be9915cf44ba4a82d23",
            "value": "100%"
          }
        },
        "07029e9d20b84d0e9c748e7d0be23b8e": {
          "model_module": "@jupyter-widgets/controls",
          "model_name": "FloatProgressModel",
          "model_module_version": "1.5.0",
          "state": {
            "_dom_classes": [],
            "_model_module": "@jupyter-widgets/controls",
            "_model_module_version": "1.5.0",
            "_model_name": "FloatProgressModel",
            "_view_count": null,
            "_view_module": "@jupyter-widgets/controls",
            "_view_module_version": "1.5.0",
            "_view_name": "ProgressView",
            "bar_style": "success",
            "description": "",
            "description_tooltip": null,
            "layout": "IPY_MODEL_464ecffc2f334520b3b5e5a93f9507a4",
            "max": 28881,
            "min": 0,
            "orientation": "horizontal",
            "style": "IPY_MODEL_ce586942d23e4b62b7906633f5780cca",
            "value": 28881
          }
        },
        "d047e7833985433680dae9a54586f4b8": {
          "model_module": "@jupyter-widgets/controls",
          "model_name": "HTMLModel",
          "model_module_version": "1.5.0",
          "state": {
            "_dom_classes": [],
            "_model_module": "@jupyter-widgets/controls",
            "_model_module_version": "1.5.0",
            "_model_name": "HTMLModel",
            "_view_count": null,
            "_view_module": "@jupyter-widgets/controls",
            "_view_module_version": "1.5.0",
            "_view_name": "HTMLView",
            "description": "",
            "description_tooltip": null,
            "layout": "IPY_MODEL_2ba1d2c1e44a4bde9175075421be4b74",
            "placeholder": "​",
            "style": "IPY_MODEL_9d8c4c4065774ff7a0f0a1ce72068378",
            "value": " 28881/28881 [00:00&lt;00:00, 442059.13it/s]"
          }
        },
        "c308df230bdc44e0871b90c823f2da1b": {
          "model_module": "@jupyter-widgets/base",
          "model_name": "LayoutModel",
          "model_module_version": "1.2.0",
          "state": {
            "_model_module": "@jupyter-widgets/base",
            "_model_module_version": "1.2.0",
            "_model_name": "LayoutModel",
            "_view_count": null,
            "_view_module": "@jupyter-widgets/base",
            "_view_module_version": "1.2.0",
            "_view_name": "LayoutView",
            "align_content": null,
            "align_items": null,
            "align_self": null,
            "border": null,
            "bottom": null,
            "display": null,
            "flex": null,
            "flex_flow": null,
            "grid_area": null,
            "grid_auto_columns": null,
            "grid_auto_flow": null,
            "grid_auto_rows": null,
            "grid_column": null,
            "grid_gap": null,
            "grid_row": null,
            "grid_template_areas": null,
            "grid_template_columns": null,
            "grid_template_rows": null,
            "height": null,
            "justify_content": null,
            "justify_items": null,
            "left": null,
            "margin": null,
            "max_height": null,
            "max_width": null,
            "min_height": null,
            "min_width": null,
            "object_fit": null,
            "object_position": null,
            "order": null,
            "overflow": null,
            "overflow_x": null,
            "overflow_y": null,
            "padding": null,
            "right": null,
            "top": null,
            "visibility": null,
            "width": null
          }
        },
        "6954ac77fe9c4c649064b3afaecbb8b2": {
          "model_module": "@jupyter-widgets/base",
          "model_name": "LayoutModel",
          "model_module_version": "1.2.0",
          "state": {
            "_model_module": "@jupyter-widgets/base",
            "_model_module_version": "1.2.0",
            "_model_name": "LayoutModel",
            "_view_count": null,
            "_view_module": "@jupyter-widgets/base",
            "_view_module_version": "1.2.0",
            "_view_name": "LayoutView",
            "align_content": null,
            "align_items": null,
            "align_self": null,
            "border": null,
            "bottom": null,
            "display": null,
            "flex": null,
            "flex_flow": null,
            "grid_area": null,
            "grid_auto_columns": null,
            "grid_auto_flow": null,
            "grid_auto_rows": null,
            "grid_column": null,
            "grid_gap": null,
            "grid_row": null,
            "grid_template_areas": null,
            "grid_template_columns": null,
            "grid_template_rows": null,
            "height": null,
            "justify_content": null,
            "justify_items": null,
            "left": null,
            "margin": null,
            "max_height": null,
            "max_width": null,
            "min_height": null,
            "min_width": null,
            "object_fit": null,
            "object_position": null,
            "order": null,
            "overflow": null,
            "overflow_x": null,
            "overflow_y": null,
            "padding": null,
            "right": null,
            "top": null,
            "visibility": null,
            "width": null
          }
        },
        "603f9d586ae94be9915cf44ba4a82d23": {
          "model_module": "@jupyter-widgets/controls",
          "model_name": "DescriptionStyleModel",
          "model_module_version": "1.5.0",
          "state": {
            "_model_module": "@jupyter-widgets/controls",
            "_model_module_version": "1.5.0",
            "_model_name": "DescriptionStyleModel",
            "_view_count": null,
            "_view_module": "@jupyter-widgets/base",
            "_view_module_version": "1.2.0",
            "_view_name": "StyleView",
            "description_width": ""
          }
        },
        "464ecffc2f334520b3b5e5a93f9507a4": {
          "model_module": "@jupyter-widgets/base",
          "model_name": "LayoutModel",
          "model_module_version": "1.2.0",
          "state": {
            "_model_module": "@jupyter-widgets/base",
            "_model_module_version": "1.2.0",
            "_model_name": "LayoutModel",
            "_view_count": null,
            "_view_module": "@jupyter-widgets/base",
            "_view_module_version": "1.2.0",
            "_view_name": "LayoutView",
            "align_content": null,
            "align_items": null,
            "align_self": null,
            "border": null,
            "bottom": null,
            "display": null,
            "flex": null,
            "flex_flow": null,
            "grid_area": null,
            "grid_auto_columns": null,
            "grid_auto_flow": null,
            "grid_auto_rows": null,
            "grid_column": null,
            "grid_gap": null,
            "grid_row": null,
            "grid_template_areas": null,
            "grid_template_columns": null,
            "grid_template_rows": null,
            "height": null,
            "justify_content": null,
            "justify_items": null,
            "left": null,
            "margin": null,
            "max_height": null,
            "max_width": null,
            "min_height": null,
            "min_width": null,
            "object_fit": null,
            "object_position": null,
            "order": null,
            "overflow": null,
            "overflow_x": null,
            "overflow_y": null,
            "padding": null,
            "right": null,
            "top": null,
            "visibility": null,
            "width": null
          }
        },
        "ce586942d23e4b62b7906633f5780cca": {
          "model_module": "@jupyter-widgets/controls",
          "model_name": "ProgressStyleModel",
          "model_module_version": "1.5.0",
          "state": {
            "_model_module": "@jupyter-widgets/controls",
            "_model_module_version": "1.5.0",
            "_model_name": "ProgressStyleModel",
            "_view_count": null,
            "_view_module": "@jupyter-widgets/base",
            "_view_module_version": "1.2.0",
            "_view_name": "StyleView",
            "bar_color": null,
            "description_width": ""
          }
        },
        "2ba1d2c1e44a4bde9175075421be4b74": {
          "model_module": "@jupyter-widgets/base",
          "model_name": "LayoutModel",
          "model_module_version": "1.2.0",
          "state": {
            "_model_module": "@jupyter-widgets/base",
            "_model_module_version": "1.2.0",
            "_model_name": "LayoutModel",
            "_view_count": null,
            "_view_module": "@jupyter-widgets/base",
            "_view_module_version": "1.2.0",
            "_view_name": "LayoutView",
            "align_content": null,
            "align_items": null,
            "align_self": null,
            "border": null,
            "bottom": null,
            "display": null,
            "flex": null,
            "flex_flow": null,
            "grid_area": null,
            "grid_auto_columns": null,
            "grid_auto_flow": null,
            "grid_auto_rows": null,
            "grid_column": null,
            "grid_gap": null,
            "grid_row": null,
            "grid_template_areas": null,
            "grid_template_columns": null,
            "grid_template_rows": null,
            "height": null,
            "justify_content": null,
            "justify_items": null,
            "left": null,
            "margin": null,
            "max_height": null,
            "max_width": null,
            "min_height": null,
            "min_width": null,
            "object_fit": null,
            "object_position": null,
            "order": null,
            "overflow": null,
            "overflow_x": null,
            "overflow_y": null,
            "padding": null,
            "right": null,
            "top": null,
            "visibility": null,
            "width": null
          }
        },
        "9d8c4c4065774ff7a0f0a1ce72068378": {
          "model_module": "@jupyter-widgets/controls",
          "model_name": "DescriptionStyleModel",
          "model_module_version": "1.5.0",
          "state": {
            "_model_module": "@jupyter-widgets/controls",
            "_model_module_version": "1.5.0",
            "_model_name": "DescriptionStyleModel",
            "_view_count": null,
            "_view_module": "@jupyter-widgets/base",
            "_view_module_version": "1.2.0",
            "_view_name": "StyleView",
            "description_width": ""
          }
        },
        "00cf257f158d45248dbce166e04c68ed": {
          "model_module": "@jupyter-widgets/controls",
          "model_name": "HBoxModel",
          "model_module_version": "1.5.0",
          "state": {
            "_dom_classes": [],
            "_model_module": "@jupyter-widgets/controls",
            "_model_module_version": "1.5.0",
            "_model_name": "HBoxModel",
            "_view_count": null,
            "_view_module": "@jupyter-widgets/controls",
            "_view_module_version": "1.5.0",
            "_view_name": "HBoxView",
            "box_style": "",
            "children": [
              "IPY_MODEL_716fd91d2d9d43509aebd8c300ffc1a7",
              "IPY_MODEL_c987907979714cc98dd4fd408e18bb32",
              "IPY_MODEL_0d63421f9af84b6cb521b064db0e7d72"
            ],
            "layout": "IPY_MODEL_9584324c94724f40a7a2df5655f5131b"
          }
        },
        "716fd91d2d9d43509aebd8c300ffc1a7": {
          "model_module": "@jupyter-widgets/controls",
          "model_name": "HTMLModel",
          "model_module_version": "1.5.0",
          "state": {
            "_dom_classes": [],
            "_model_module": "@jupyter-widgets/controls",
            "_model_module_version": "1.5.0",
            "_model_name": "HTMLModel",
            "_view_count": null,
            "_view_module": "@jupyter-widgets/controls",
            "_view_module_version": "1.5.0",
            "_view_name": "HTMLView",
            "description": "",
            "description_tooltip": null,
            "layout": "IPY_MODEL_37a1b85e6dff40d99b4510ff3061e5b7",
            "placeholder": "​",
            "style": "IPY_MODEL_cea78f8b18114cdf8c8760f160b0a207",
            "value": "100%"
          }
        },
        "c987907979714cc98dd4fd408e18bb32": {
          "model_module": "@jupyter-widgets/controls",
          "model_name": "FloatProgressModel",
          "model_module_version": "1.5.0",
          "state": {
            "_dom_classes": [],
            "_model_module": "@jupyter-widgets/controls",
            "_model_module_version": "1.5.0",
            "_model_name": "FloatProgressModel",
            "_view_count": null,
            "_view_module": "@jupyter-widgets/controls",
            "_view_module_version": "1.5.0",
            "_view_name": "ProgressView",
            "bar_style": "success",
            "description": "",
            "description_tooltip": null,
            "layout": "IPY_MODEL_3e96d8f158d340e495c4fc1e904c0af2",
            "max": 1648877,
            "min": 0,
            "orientation": "horizontal",
            "style": "IPY_MODEL_e468a98e749249a9845ee88600be4882",
            "value": 1648877
          }
        },
        "0d63421f9af84b6cb521b064db0e7d72": {
          "model_module": "@jupyter-widgets/controls",
          "model_name": "HTMLModel",
          "model_module_version": "1.5.0",
          "state": {
            "_dom_classes": [],
            "_model_module": "@jupyter-widgets/controls",
            "_model_module_version": "1.5.0",
            "_model_name": "HTMLModel",
            "_view_count": null,
            "_view_module": "@jupyter-widgets/controls",
            "_view_module_version": "1.5.0",
            "_view_name": "HTMLView",
            "description": "",
            "description_tooltip": null,
            "layout": "IPY_MODEL_c4333151fe59482997ea059bad1433a8",
            "placeholder": "​",
            "style": "IPY_MODEL_d0191e90afe349658db102f1e6f6810f",
            "value": " 1648877/1648877 [00:00&lt;00:00, 31669794.60it/s]"
          }
        },
        "9584324c94724f40a7a2df5655f5131b": {
          "model_module": "@jupyter-widgets/base",
          "model_name": "LayoutModel",
          "model_module_version": "1.2.0",
          "state": {
            "_model_module": "@jupyter-widgets/base",
            "_model_module_version": "1.2.0",
            "_model_name": "LayoutModel",
            "_view_count": null,
            "_view_module": "@jupyter-widgets/base",
            "_view_module_version": "1.2.0",
            "_view_name": "LayoutView",
            "align_content": null,
            "align_items": null,
            "align_self": null,
            "border": null,
            "bottom": null,
            "display": null,
            "flex": null,
            "flex_flow": null,
            "grid_area": null,
            "grid_auto_columns": null,
            "grid_auto_flow": null,
            "grid_auto_rows": null,
            "grid_column": null,
            "grid_gap": null,
            "grid_row": null,
            "grid_template_areas": null,
            "grid_template_columns": null,
            "grid_template_rows": null,
            "height": null,
            "justify_content": null,
            "justify_items": null,
            "left": null,
            "margin": null,
            "max_height": null,
            "max_width": null,
            "min_height": null,
            "min_width": null,
            "object_fit": null,
            "object_position": null,
            "order": null,
            "overflow": null,
            "overflow_x": null,
            "overflow_y": null,
            "padding": null,
            "right": null,
            "top": null,
            "visibility": null,
            "width": null
          }
        },
        "37a1b85e6dff40d99b4510ff3061e5b7": {
          "model_module": "@jupyter-widgets/base",
          "model_name": "LayoutModel",
          "model_module_version": "1.2.0",
          "state": {
            "_model_module": "@jupyter-widgets/base",
            "_model_module_version": "1.2.0",
            "_model_name": "LayoutModel",
            "_view_count": null,
            "_view_module": "@jupyter-widgets/base",
            "_view_module_version": "1.2.0",
            "_view_name": "LayoutView",
            "align_content": null,
            "align_items": null,
            "align_self": null,
            "border": null,
            "bottom": null,
            "display": null,
            "flex": null,
            "flex_flow": null,
            "grid_area": null,
            "grid_auto_columns": null,
            "grid_auto_flow": null,
            "grid_auto_rows": null,
            "grid_column": null,
            "grid_gap": null,
            "grid_row": null,
            "grid_template_areas": null,
            "grid_template_columns": null,
            "grid_template_rows": null,
            "height": null,
            "justify_content": null,
            "justify_items": null,
            "left": null,
            "margin": null,
            "max_height": null,
            "max_width": null,
            "min_height": null,
            "min_width": null,
            "object_fit": null,
            "object_position": null,
            "order": null,
            "overflow": null,
            "overflow_x": null,
            "overflow_y": null,
            "padding": null,
            "right": null,
            "top": null,
            "visibility": null,
            "width": null
          }
        },
        "cea78f8b18114cdf8c8760f160b0a207": {
          "model_module": "@jupyter-widgets/controls",
          "model_name": "DescriptionStyleModel",
          "model_module_version": "1.5.0",
          "state": {
            "_model_module": "@jupyter-widgets/controls",
            "_model_module_version": "1.5.0",
            "_model_name": "DescriptionStyleModel",
            "_view_count": null,
            "_view_module": "@jupyter-widgets/base",
            "_view_module_version": "1.2.0",
            "_view_name": "StyleView",
            "description_width": ""
          }
        },
        "3e96d8f158d340e495c4fc1e904c0af2": {
          "model_module": "@jupyter-widgets/base",
          "model_name": "LayoutModel",
          "model_module_version": "1.2.0",
          "state": {
            "_model_module": "@jupyter-widgets/base",
            "_model_module_version": "1.2.0",
            "_model_name": "LayoutModel",
            "_view_count": null,
            "_view_module": "@jupyter-widgets/base",
            "_view_module_version": "1.2.0",
            "_view_name": "LayoutView",
            "align_content": null,
            "align_items": null,
            "align_self": null,
            "border": null,
            "bottom": null,
            "display": null,
            "flex": null,
            "flex_flow": null,
            "grid_area": null,
            "grid_auto_columns": null,
            "grid_auto_flow": null,
            "grid_auto_rows": null,
            "grid_column": null,
            "grid_gap": null,
            "grid_row": null,
            "grid_template_areas": null,
            "grid_template_columns": null,
            "grid_template_rows": null,
            "height": null,
            "justify_content": null,
            "justify_items": null,
            "left": null,
            "margin": null,
            "max_height": null,
            "max_width": null,
            "min_height": null,
            "min_width": null,
            "object_fit": null,
            "object_position": null,
            "order": null,
            "overflow": null,
            "overflow_x": null,
            "overflow_y": null,
            "padding": null,
            "right": null,
            "top": null,
            "visibility": null,
            "width": null
          }
        },
        "e468a98e749249a9845ee88600be4882": {
          "model_module": "@jupyter-widgets/controls",
          "model_name": "ProgressStyleModel",
          "model_module_version": "1.5.0",
          "state": {
            "_model_module": "@jupyter-widgets/controls",
            "_model_module_version": "1.5.0",
            "_model_name": "ProgressStyleModel",
            "_view_count": null,
            "_view_module": "@jupyter-widgets/base",
            "_view_module_version": "1.2.0",
            "_view_name": "StyleView",
            "bar_color": null,
            "description_width": ""
          }
        },
        "c4333151fe59482997ea059bad1433a8": {
          "model_module": "@jupyter-widgets/base",
          "model_name": "LayoutModel",
          "model_module_version": "1.2.0",
          "state": {
            "_model_module": "@jupyter-widgets/base",
            "_model_module_version": "1.2.0",
            "_model_name": "LayoutModel",
            "_view_count": null,
            "_view_module": "@jupyter-widgets/base",
            "_view_module_version": "1.2.0",
            "_view_name": "LayoutView",
            "align_content": null,
            "align_items": null,
            "align_self": null,
            "border": null,
            "bottom": null,
            "display": null,
            "flex": null,
            "flex_flow": null,
            "grid_area": null,
            "grid_auto_columns": null,
            "grid_auto_flow": null,
            "grid_auto_rows": null,
            "grid_column": null,
            "grid_gap": null,
            "grid_row": null,
            "grid_template_areas": null,
            "grid_template_columns": null,
            "grid_template_rows": null,
            "height": null,
            "justify_content": null,
            "justify_items": null,
            "left": null,
            "margin": null,
            "max_height": null,
            "max_width": null,
            "min_height": null,
            "min_width": null,
            "object_fit": null,
            "object_position": null,
            "order": null,
            "overflow": null,
            "overflow_x": null,
            "overflow_y": null,
            "padding": null,
            "right": null,
            "top": null,
            "visibility": null,
            "width": null
          }
        },
        "d0191e90afe349658db102f1e6f6810f": {
          "model_module": "@jupyter-widgets/controls",
          "model_name": "DescriptionStyleModel",
          "model_module_version": "1.5.0",
          "state": {
            "_model_module": "@jupyter-widgets/controls",
            "_model_module_version": "1.5.0",
            "_model_name": "DescriptionStyleModel",
            "_view_count": null,
            "_view_module": "@jupyter-widgets/base",
            "_view_module_version": "1.2.0",
            "_view_name": "StyleView",
            "description_width": ""
          }
        },
        "c5f34d8618d64302b92c14fce12b48e6": {
          "model_module": "@jupyter-widgets/controls",
          "model_name": "HBoxModel",
          "model_module_version": "1.5.0",
          "state": {
            "_dom_classes": [],
            "_model_module": "@jupyter-widgets/controls",
            "_model_module_version": "1.5.0",
            "_model_name": "HBoxModel",
            "_view_count": null,
            "_view_module": "@jupyter-widgets/controls",
            "_view_module_version": "1.5.0",
            "_view_name": "HBoxView",
            "box_style": "",
            "children": [
              "IPY_MODEL_d8cb65e82c294a0da2f07dc1170537f4",
              "IPY_MODEL_672a390f9f79464985c1fbb12ab77e01",
              "IPY_MODEL_14039d8877a745599dfa15e75eb5d9a6"
            ],
            "layout": "IPY_MODEL_2ac7ba59ff924b35be2e19b2a6374e61"
          }
        },
        "d8cb65e82c294a0da2f07dc1170537f4": {
          "model_module": "@jupyter-widgets/controls",
          "model_name": "HTMLModel",
          "model_module_version": "1.5.0",
          "state": {
            "_dom_classes": [],
            "_model_module": "@jupyter-widgets/controls",
            "_model_module_version": "1.5.0",
            "_model_name": "HTMLModel",
            "_view_count": null,
            "_view_module": "@jupyter-widgets/controls",
            "_view_module_version": "1.5.0",
            "_view_name": "HTMLView",
            "description": "",
            "description_tooltip": null,
            "layout": "IPY_MODEL_7d974b7450e4488a84f2c87fbf728edc",
            "placeholder": "​",
            "style": "IPY_MODEL_1e251ae7512a49c9b3bb5e0131c46823",
            "value": "100%"
          }
        },
        "672a390f9f79464985c1fbb12ab77e01": {
          "model_module": "@jupyter-widgets/controls",
          "model_name": "FloatProgressModel",
          "model_module_version": "1.5.0",
          "state": {
            "_dom_classes": [],
            "_model_module": "@jupyter-widgets/controls",
            "_model_module_version": "1.5.0",
            "_model_name": "FloatProgressModel",
            "_view_count": null,
            "_view_module": "@jupyter-widgets/controls",
            "_view_module_version": "1.5.0",
            "_view_name": "ProgressView",
            "bar_style": "success",
            "description": "",
            "description_tooltip": null,
            "layout": "IPY_MODEL_7b5d0067d6c748b0bfed3697ac3495c7",
            "max": 4542,
            "min": 0,
            "orientation": "horizontal",
            "style": "IPY_MODEL_7520a5b1780e4132a0174453517e36e0",
            "value": 4542
          }
        },
        "14039d8877a745599dfa15e75eb5d9a6": {
          "model_module": "@jupyter-widgets/controls",
          "model_name": "HTMLModel",
          "model_module_version": "1.5.0",
          "state": {
            "_dom_classes": [],
            "_model_module": "@jupyter-widgets/controls",
            "_model_module_version": "1.5.0",
            "_model_name": "HTMLModel",
            "_view_count": null,
            "_view_module": "@jupyter-widgets/controls",
            "_view_module_version": "1.5.0",
            "_view_name": "HTMLView",
            "description": "",
            "description_tooltip": null,
            "layout": "IPY_MODEL_6939d7a860cf43f9885d7ba16372c282",
            "placeholder": "​",
            "style": "IPY_MODEL_b997fded017d4501a910fa187eb7c241",
            "value": " 4542/4542 [00:00&lt;00:00, 101452.94it/s]"
          }
        },
        "2ac7ba59ff924b35be2e19b2a6374e61": {
          "model_module": "@jupyter-widgets/base",
          "model_name": "LayoutModel",
          "model_module_version": "1.2.0",
          "state": {
            "_model_module": "@jupyter-widgets/base",
            "_model_module_version": "1.2.0",
            "_model_name": "LayoutModel",
            "_view_count": null,
            "_view_module": "@jupyter-widgets/base",
            "_view_module_version": "1.2.0",
            "_view_name": "LayoutView",
            "align_content": null,
            "align_items": null,
            "align_self": null,
            "border": null,
            "bottom": null,
            "display": null,
            "flex": null,
            "flex_flow": null,
            "grid_area": null,
            "grid_auto_columns": null,
            "grid_auto_flow": null,
            "grid_auto_rows": null,
            "grid_column": null,
            "grid_gap": null,
            "grid_row": null,
            "grid_template_areas": null,
            "grid_template_columns": null,
            "grid_template_rows": null,
            "height": null,
            "justify_content": null,
            "justify_items": null,
            "left": null,
            "margin": null,
            "max_height": null,
            "max_width": null,
            "min_height": null,
            "min_width": null,
            "object_fit": null,
            "object_position": null,
            "order": null,
            "overflow": null,
            "overflow_x": null,
            "overflow_y": null,
            "padding": null,
            "right": null,
            "top": null,
            "visibility": null,
            "width": null
          }
        },
        "7d974b7450e4488a84f2c87fbf728edc": {
          "model_module": "@jupyter-widgets/base",
          "model_name": "LayoutModel",
          "model_module_version": "1.2.0",
          "state": {
            "_model_module": "@jupyter-widgets/base",
            "_model_module_version": "1.2.0",
            "_model_name": "LayoutModel",
            "_view_count": null,
            "_view_module": "@jupyter-widgets/base",
            "_view_module_version": "1.2.0",
            "_view_name": "LayoutView",
            "align_content": null,
            "align_items": null,
            "align_self": null,
            "border": null,
            "bottom": null,
            "display": null,
            "flex": null,
            "flex_flow": null,
            "grid_area": null,
            "grid_auto_columns": null,
            "grid_auto_flow": null,
            "grid_auto_rows": null,
            "grid_column": null,
            "grid_gap": null,
            "grid_row": null,
            "grid_template_areas": null,
            "grid_template_columns": null,
            "grid_template_rows": null,
            "height": null,
            "justify_content": null,
            "justify_items": null,
            "left": null,
            "margin": null,
            "max_height": null,
            "max_width": null,
            "min_height": null,
            "min_width": null,
            "object_fit": null,
            "object_position": null,
            "order": null,
            "overflow": null,
            "overflow_x": null,
            "overflow_y": null,
            "padding": null,
            "right": null,
            "top": null,
            "visibility": null,
            "width": null
          }
        },
        "1e251ae7512a49c9b3bb5e0131c46823": {
          "model_module": "@jupyter-widgets/controls",
          "model_name": "DescriptionStyleModel",
          "model_module_version": "1.5.0",
          "state": {
            "_model_module": "@jupyter-widgets/controls",
            "_model_module_version": "1.5.0",
            "_model_name": "DescriptionStyleModel",
            "_view_count": null,
            "_view_module": "@jupyter-widgets/base",
            "_view_module_version": "1.2.0",
            "_view_name": "StyleView",
            "description_width": ""
          }
        },
        "7b5d0067d6c748b0bfed3697ac3495c7": {
          "model_module": "@jupyter-widgets/base",
          "model_name": "LayoutModel",
          "model_module_version": "1.2.0",
          "state": {
            "_model_module": "@jupyter-widgets/base",
            "_model_module_version": "1.2.0",
            "_model_name": "LayoutModel",
            "_view_count": null,
            "_view_module": "@jupyter-widgets/base",
            "_view_module_version": "1.2.0",
            "_view_name": "LayoutView",
            "align_content": null,
            "align_items": null,
            "align_self": null,
            "border": null,
            "bottom": null,
            "display": null,
            "flex": null,
            "flex_flow": null,
            "grid_area": null,
            "grid_auto_columns": null,
            "grid_auto_flow": null,
            "grid_auto_rows": null,
            "grid_column": null,
            "grid_gap": null,
            "grid_row": null,
            "grid_template_areas": null,
            "grid_template_columns": null,
            "grid_template_rows": null,
            "height": null,
            "justify_content": null,
            "justify_items": null,
            "left": null,
            "margin": null,
            "max_height": null,
            "max_width": null,
            "min_height": null,
            "min_width": null,
            "object_fit": null,
            "object_position": null,
            "order": null,
            "overflow": null,
            "overflow_x": null,
            "overflow_y": null,
            "padding": null,
            "right": null,
            "top": null,
            "visibility": null,
            "width": null
          }
        },
        "7520a5b1780e4132a0174453517e36e0": {
          "model_module": "@jupyter-widgets/controls",
          "model_name": "ProgressStyleModel",
          "model_module_version": "1.5.0",
          "state": {
            "_model_module": "@jupyter-widgets/controls",
            "_model_module_version": "1.5.0",
            "_model_name": "ProgressStyleModel",
            "_view_count": null,
            "_view_module": "@jupyter-widgets/base",
            "_view_module_version": "1.2.0",
            "_view_name": "StyleView",
            "bar_color": null,
            "description_width": ""
          }
        },
        "6939d7a860cf43f9885d7ba16372c282": {
          "model_module": "@jupyter-widgets/base",
          "model_name": "LayoutModel",
          "model_module_version": "1.2.0",
          "state": {
            "_model_module": "@jupyter-widgets/base",
            "_model_module_version": "1.2.0",
            "_model_name": "LayoutModel",
            "_view_count": null,
            "_view_module": "@jupyter-widgets/base",
            "_view_module_version": "1.2.0",
            "_view_name": "LayoutView",
            "align_content": null,
            "align_items": null,
            "align_self": null,
            "border": null,
            "bottom": null,
            "display": null,
            "flex": null,
            "flex_flow": null,
            "grid_area": null,
            "grid_auto_columns": null,
            "grid_auto_flow": null,
            "grid_auto_rows": null,
            "grid_column": null,
            "grid_gap": null,
            "grid_row": null,
            "grid_template_areas": null,
            "grid_template_columns": null,
            "grid_template_rows": null,
            "height": null,
            "justify_content": null,
            "justify_items": null,
            "left": null,
            "margin": null,
            "max_height": null,
            "max_width": null,
            "min_height": null,
            "min_width": null,
            "object_fit": null,
            "object_position": null,
            "order": null,
            "overflow": null,
            "overflow_x": null,
            "overflow_y": null,
            "padding": null,
            "right": null,
            "top": null,
            "visibility": null,
            "width": null
          }
        },
        "b997fded017d4501a910fa187eb7c241": {
          "model_module": "@jupyter-widgets/controls",
          "model_name": "DescriptionStyleModel",
          "model_module_version": "1.5.0",
          "state": {
            "_model_module": "@jupyter-widgets/controls",
            "_model_module_version": "1.5.0",
            "_model_name": "DescriptionStyleModel",
            "_view_count": null,
            "_view_module": "@jupyter-widgets/base",
            "_view_module_version": "1.2.0",
            "_view_name": "StyleView",
            "description_width": ""
          }
        }
      }
    }
  },
  "cells": [
    {
      "cell_type": "markdown",
      "source": [
        "**Image Classification using Logistic Regression**\n",
        "* Use existing knowledge of PyTorch and linear regression for image classification\n",
        "* MNIST Handwritten Digit Database: 28px by 28px grayscale images of handwritten digits w/ labels"
      ],
      "metadata": {
        "id": "2aukiDD2T-oc"
      }
    },
    {
      "cell_type": "code",
      "source": [
        "import torch\n",
        "# contains utils for working w/ image data\n",
        "# can also auto download and import popular datasets like MNIST\n",
        "import torchvision\n",
        "from torchvision.datasets import MNIST"
      ],
      "metadata": {
        "id": "gPx5rEQfUlnx"
      },
      "execution_count": null,
      "outputs": []
    },
    {
      "cell_type": "code",
      "source": [
        "# download training dataset to specified root directory\n",
        "dataset = MNIST(root='data/', download=True)"
      ],
      "metadata": {
        "colab": {
          "base_uri": "https://localhost:8080/",
          "height": 443,
          "referenced_widgets": [
            "6e2b8b4bd1324f7cbcc360c7d0eddd05",
            "35c46dcfeac442aeae8e22e497689f4e",
            "014b36d30ab04b09bebb37cffcae90fb",
            "051b0acb24a8407082d3a3e42362f1b2",
            "05d4c8a3c20a411099caddce2e9c0db9",
            "b653eaae1e474c928875b9f774924123",
            "83ce36eb2430487bb77b19c4ab44e3fb",
            "1bac69286a2e4a5eb42cdd626e1360bc",
            "5fd194bcf28a42daac87b0481093befb",
            "eb98b1695330406ea45daac378a7e796",
            "97521b47532448448ea9bef9f2424b12",
            "d1a4167843214c058425ed340f5189a4",
            "f896b85ca592460f818e8179da50f103",
            "07029e9d20b84d0e9c748e7d0be23b8e",
            "d047e7833985433680dae9a54586f4b8",
            "c308df230bdc44e0871b90c823f2da1b",
            "6954ac77fe9c4c649064b3afaecbb8b2",
            "603f9d586ae94be9915cf44ba4a82d23",
            "464ecffc2f334520b3b5e5a93f9507a4",
            "ce586942d23e4b62b7906633f5780cca",
            "2ba1d2c1e44a4bde9175075421be4b74",
            "9d8c4c4065774ff7a0f0a1ce72068378",
            "00cf257f158d45248dbce166e04c68ed",
            "716fd91d2d9d43509aebd8c300ffc1a7",
            "c987907979714cc98dd4fd408e18bb32",
            "0d63421f9af84b6cb521b064db0e7d72",
            "9584324c94724f40a7a2df5655f5131b",
            "37a1b85e6dff40d99b4510ff3061e5b7",
            "cea78f8b18114cdf8c8760f160b0a207",
            "3e96d8f158d340e495c4fc1e904c0af2",
            "e468a98e749249a9845ee88600be4882",
            "c4333151fe59482997ea059bad1433a8",
            "d0191e90afe349658db102f1e6f6810f",
            "c5f34d8618d64302b92c14fce12b48e6",
            "d8cb65e82c294a0da2f07dc1170537f4",
            "672a390f9f79464985c1fbb12ab77e01",
            "14039d8877a745599dfa15e75eb5d9a6",
            "2ac7ba59ff924b35be2e19b2a6374e61",
            "7d974b7450e4488a84f2c87fbf728edc",
            "1e251ae7512a49c9b3bb5e0131c46823",
            "7b5d0067d6c748b0bfed3697ac3495c7",
            "7520a5b1780e4132a0174453517e36e0",
            "6939d7a860cf43f9885d7ba16372c282",
            "b997fded017d4501a910fa187eb7c241"
          ]
        },
        "id": "aPzxuXITVQxb",
        "outputId": "4d94780b-3f4e-4212-cbfa-b31a6d2617d4"
      },
      "execution_count": null,
      "outputs": [
        {
          "output_type": "stream",
          "name": "stdout",
          "text": [
            "Downloading http://yann.lecun.com/exdb/mnist/train-images-idx3-ubyte.gz\n",
            "Downloading http://yann.lecun.com/exdb/mnist/train-images-idx3-ubyte.gz to data/MNIST/raw/train-images-idx3-ubyte.gz\n"
          ]
        },
        {
          "output_type": "display_data",
          "data": {
            "text/plain": [
              "  0%|          | 0/9912422 [00:00<?, ?it/s]"
            ],
            "application/vnd.jupyter.widget-view+json": {
              "version_major": 2,
              "version_minor": 0,
              "model_id": "6e2b8b4bd1324f7cbcc360c7d0eddd05"
            }
          },
          "metadata": {}
        },
        {
          "output_type": "stream",
          "name": "stdout",
          "text": [
            "Extracting data/MNIST/raw/train-images-idx3-ubyte.gz to data/MNIST/raw\n",
            "\n",
            "Downloading http://yann.lecun.com/exdb/mnist/train-labels-idx1-ubyte.gz\n",
            "Downloading http://yann.lecun.com/exdb/mnist/train-labels-idx1-ubyte.gz to data/MNIST/raw/train-labels-idx1-ubyte.gz\n"
          ]
        },
        {
          "output_type": "display_data",
          "data": {
            "text/plain": [
              "  0%|          | 0/28881 [00:00<?, ?it/s]"
            ],
            "application/vnd.jupyter.widget-view+json": {
              "version_major": 2,
              "version_minor": 0,
              "model_id": "d1a4167843214c058425ed340f5189a4"
            }
          },
          "metadata": {}
        },
        {
          "output_type": "stream",
          "name": "stdout",
          "text": [
            "Extracting data/MNIST/raw/train-labels-idx1-ubyte.gz to data/MNIST/raw\n",
            "\n",
            "Downloading http://yann.lecun.com/exdb/mnist/t10k-images-idx3-ubyte.gz\n",
            "Downloading http://yann.lecun.com/exdb/mnist/t10k-images-idx3-ubyte.gz to data/MNIST/raw/t10k-images-idx3-ubyte.gz\n"
          ]
        },
        {
          "output_type": "display_data",
          "data": {
            "text/plain": [
              "  0%|          | 0/1648877 [00:00<?, ?it/s]"
            ],
            "application/vnd.jupyter.widget-view+json": {
              "version_major": 2,
              "version_minor": 0,
              "model_id": "00cf257f158d45248dbce166e04c68ed"
            }
          },
          "metadata": {}
        },
        {
          "output_type": "stream",
          "name": "stdout",
          "text": [
            "Extracting data/MNIST/raw/t10k-images-idx3-ubyte.gz to data/MNIST/raw\n",
            "\n",
            "Downloading http://yann.lecun.com/exdb/mnist/t10k-labels-idx1-ubyte.gz\n",
            "Downloading http://yann.lecun.com/exdb/mnist/t10k-labels-idx1-ubyte.gz to data/MNIST/raw/t10k-labels-idx1-ubyte.gz\n"
          ]
        },
        {
          "output_type": "display_data",
          "data": {
            "text/plain": [
              "  0%|          | 0/4542 [00:00<?, ?it/s]"
            ],
            "application/vnd.jupyter.widget-view+json": {
              "version_major": 2,
              "version_minor": 0,
              "model_id": "c5f34d8618d64302b92c14fce12b48e6"
            }
          },
          "metadata": {}
        },
        {
          "output_type": "stream",
          "name": "stdout",
          "text": [
            "Extracting data/MNIST/raw/t10k-labels-idx1-ubyte.gz to data/MNIST/raw\n",
            "\n"
          ]
        }
      ]
    },
    {
      "cell_type": "code",
      "source": [
        "# see info about dataset object\n",
        "print(dataset)\n",
        "# get size of dataset\n",
        "print(len(dataset))\n",
        "\n",
        "# this 60k image dataset is the training set"
      ],
      "metadata": {
        "colab": {
          "base_uri": "https://localhost:8080/"
        },
        "id": "XYV-jcB_VtP0",
        "outputId": "ebaee652-fb96-4d45-a9cc-2693a7eb8f7a"
      },
      "execution_count": null,
      "outputs": [
        {
          "output_type": "stream",
          "name": "stdout",
          "text": [
            "Dataset MNIST\n",
            "    Number of datapoints: 60000\n",
            "    Root location: data/\n",
            "    Split: Train\n",
            "60000\n"
          ]
        }
      ]
    },
    {
      "cell_type": "code",
      "source": [
        "# database also has an additional test set of 10k images\n",
        "# we already downloaded MNIST data, so don't need to set download=True\n",
        "test_dataset = MNIST(root='data/', train=False)\n",
        "print(test_dataset)"
      ],
      "metadata": {
        "colab": {
          "base_uri": "https://localhost:8080/"
        },
        "id": "OHp4zoM_W7ix",
        "outputId": "c5b89345-e83a-445f-b783-a4c8f09de061"
      },
      "execution_count": null,
      "outputs": [
        {
          "output_type": "stream",
          "name": "stdout",
          "text": [
            "Dataset MNIST\n",
            "    Number of datapoints: 10000\n",
            "    Root location: data/\n",
            "    Split: Test\n"
          ]
        }
      ]
    },
    {
      "cell_type": "code",
      "source": [
        "# look at sample element of training dataset\n",
        "dataset[0]\n",
        "# remember: for linear regression we passed in (inputs, targets) to TensorDataset\n",
        "# likewise, dataset[0] gives a pair (28x28 image, label)\n",
        "\n",
        "# image is object of class PIL.Image.Image in python imaging library Pillow\n",
        "# can view image using matplotlib"
      ],
      "metadata": {
        "colab": {
          "base_uri": "https://localhost:8080/"
        },
        "id": "DjOgK62kXbeH",
        "outputId": "f2a156ca-51b2-4d80-cf8c-85c77d418464"
      },
      "execution_count": null,
      "outputs": [
        {
          "output_type": "execute_result",
          "data": {
            "text/plain": [
              "(<PIL.Image.Image image mode=L size=28x28 at 0x7F508CD90D30>, 5)"
            ]
          },
          "metadata": {},
          "execution_count": 5
        }
      ]
    },
    {
      "cell_type": "code",
      "source": [
        "# matplotlib - plotting & graphing library for data science\n",
        "import matplotlib.pyplot as plt\n",
        "\n",
        "# tell jupyter to plot within notebook instead of new popup\n",
        "%matplotlib inline"
      ],
      "metadata": {
        "id": "mwrPKYB7YRiD"
      },
      "execution_count": null,
      "outputs": []
    },
    {
      "cell_type": "code",
      "source": [
        "image, label = dataset[0] # get first image and label from dataset\n",
        "plt.imshow(image, cmap='gray') # plot image and specify grayscale\n",
        "print('Label:', label)"
      ],
      "metadata": {
        "colab": {
          "base_uri": "https://localhost:8080/",
          "height": 282
        },
        "id": "mcDenpVKZ1b2",
        "outputId": "8834e0e1-d7e5-4a4c-d540-d9b79323d865"
      },
      "execution_count": null,
      "outputs": [
        {
          "output_type": "stream",
          "name": "stdout",
          "text": [
            "Label: 5\n"
          ]
        },
        {
          "output_type": "display_data",
          "data": {
            "text/plain": [
              "<Figure size 432x288 with 1 Axes>"
            ],
            "image/png": "[encoded data removed]"
          },
          "metadata": {
            "needs_background": "light"
          }
        }
      ]
    },
    {
      "cell_type": "code",
      "source": [
        "# look at another item in dataset\n",
        "image, label = dataset[10]\n",
        "plt.imshow(image, cmap='gray')\n",
        "print('Label:', label)"
      ],
      "metadata": {
        "colab": {
          "base_uri": "https://localhost:8080/",
          "height": 282
        },
        "id": "Gz0lsSPBaZ-a",
        "outputId": "14747584-f31a-4273-e2e1-dce5b0a08d3f"
      },
      "execution_count": null,
      "outputs": [
        {
          "output_type": "stream",
          "name": "stdout",
          "text": [
            "Label: 3\n"
          ]
        },
        {
          "output_type": "display_data",
          "data": {
            "text/plain": [
              "<Figure size 432x288 with 1 Axes>"
            ],
            "image/png": "[encoded data removed]"
          },
          "metadata": {
            "needs_background": "light"
          }
        }
      ]
    },
    {
      "cell_type": "markdown",
      "source": [
        "PyTorch doesn't know how to work with images.\n",
        "* Need to convert images into tensors\n",
        "* Do this by specifying a transform when creating dataset"
      ],
      "metadata": {
        "id": "HxHfWCAZavj2"
      }
    },
    {
      "cell_type": "code",
      "source": [
        "import torchvision.transforms as transforms"
      ],
      "metadata": {
        "id": "XdQzGweXa9sn"
      },
      "execution_count": null,
      "outputs": []
    },
    {
      "cell_type": "code",
      "source": [
        "# specify transform when creating dataset\n",
        "dataset = MNIST(root='data/',\n",
        "                train=True,\n",
        "                transform=transforms.ToTensor())"
      ],
      "metadata": {
        "id": "MhaVtDlqbPAf"
      },
      "execution_count": null,
      "outputs": []
    },
    {
      "cell_type": "code",
      "source": [
        "img_tensor, label = dataset[0]\n",
        "print(img_tensor.shape, label)\n",
        "# image tensor is 1 x 28 x 28\n",
        "# second and third dims represent pixels\n",
        "# first dim is for color channels\n",
        "# mnist images are grayscale, so only 1 color channel\n",
        "# typically, color images have 3 color channels (rgb)"
      ],
      "metadata": {
        "colab": {
          "base_uri": "https://localhost:8080/"
        },
        "id": "2ecwJhZxbstC",
        "outputId": "e140b161-b24f-4821-ded5-9085b1a90c83"
      },
      "execution_count": null,
      "outputs": [
        {
          "output_type": "stream",
          "name": "stdout",
          "text": [
            "torch.Size([1, 28, 28]) 5\n"
          ]
        }
      ]
    },
    {
      "cell_type": "code",
      "source": [
        "# print rows and cols 10-15 of image tensor\n",
        "print(img_tensor[:, 10:15, 10:15])\n",
        "# print min and max values in image tensor\n",
        "print(torch.max(img_tensor), torch.min(img_tensor))\n",
        "# we see values range from 0 to 1 -- 0 is black, 1 is white"
      ],
      "metadata": {
        "colab": {
          "base_uri": "https://localhost:8080/"
        },
        "id": "u33hPaMlc2Qf",
        "outputId": "60a6d2af-7ee6-42c9-e781-4e1bb2827dcb"
      },
      "execution_count": null,
      "outputs": [
        {
          "output_type": "stream",
          "name": "stdout",
          "text": [
            "tensor([[[0.0039, 0.6039, 0.9922, 0.3529, 0.0000],\n",
            "         [0.0000, 0.5451, 0.9922, 0.7451, 0.0078],\n",
            "         [0.0000, 0.0431, 0.7451, 0.9922, 0.2745],\n",
            "         [0.0000, 0.0000, 0.1373, 0.9451, 0.8824],\n",
            "         [0.0000, 0.0000, 0.0000, 0.3176, 0.9412]]])\n",
            "tensor(1.) tensor(0.)\n"
          ]
        }
      ]
    },
    {
      "cell_type": "code",
      "source": [
        "# plot section of image\n",
        "plt.imshow(img_tensor[0, 10:15, 10:15], cmap='gray')\n",
        "# specify 0 for first dim to select first (and only) color channel"
      ],
      "metadata": {
        "colab": {
          "base_uri": "https://localhost:8080/",
          "height": 282
        },
        "id": "oGSCahxrdl8p",
        "outputId": "6c511883-649c-4644-c1ab-7251431301b7"
      },
      "execution_count": null,
      "outputs": [
        {
          "output_type": "execute_result",
          "data": {
            "text/plain": [
              "<matplotlib.image.AxesImage at 0x7f508c7abd00>"
            ]
          },
          "metadata": {},
          "execution_count": 13
        },
        {
          "output_type": "display_data",
          "data": {
            "text/plain": [
              "<Figure size 432x288 with 1 Axes>"
            ],
            "image/png": "[encoded data removed]"
          },
          "metadata": {
            "needs_background": "light"
          }
        }
      ]
    },
    {
      "cell_type": "markdown",
      "source": [
        "**Training and Validation Datasets**\n",
        "* Often split dataset into 3 parts:\n",
        "  1. **Training set** - used to train model (compute loss, adjust weights)\n",
        "  2. **Validation set** - used to evaluate model when training, adjust hyperparameters (learning rate etc.), pick best version of model\n",
        "  3. **Test set** - used to compare different models/modeling approaches & report final accuracy of model\n",
        "\n",
        "* MNIST dataset - 60k training images, 10k test images\n",
        "  * Test set standardized so different researchers can report results against same images\n",
        "  * No predefined validation set - must manually split 60k into training & validation sets"
      ],
      "metadata": {
        "id": "PxF4CIwFeMf8"
      }
    },
    {
      "cell_type": "code",
      "source": [
        "# important to choose random sample for creating validation set\n",
        "# training data is often ordered by target labels (e.g. all 0s, then all 1s,...)\n",
        "\n",
        "# we'll randomly set aside validation images using the random_split method\n",
        "from torch.utils.data import random_split\n",
        "\n",
        "# 50k for training, 10k for validation\n",
        "train_ds, val_ds = random_split(dataset, [50000, 10000])\n",
        "len(train_ds), len(val_ds)"
      ],
      "metadata": {
        "colab": {
          "base_uri": "https://localhost:8080/"
        },
        "id": "RRSUlWTteSkv",
        "outputId": "88b053e7-0e7d-4cf6-9904-ed3df12c8cd8"
      },
      "execution_count": null,
      "outputs": [
        {
          "output_type": "execute_result",
          "data": {
            "text/plain": [
              "(50000, 10000)"
            ]
          },
          "metadata": {},
          "execution_count": 14
        }
      ]
    },
    {
      "cell_type": "code",
      "source": [
        "from torch.utils.data import DataLoader\n",
        "\n",
        "batch_size = 128\n",
        "\n",
        "# shuffle training set so batches are different for every epoch\n",
        "train_loader = DataLoader(train_ds, batch_size, shuffle=True)\n",
        "# don't need to shuffle validation set bc not using it to adjust model\n",
        "val_loader = DataLoader(val_ds, batch_size)"
      ],
      "metadata": {
        "id": "bIltGQHthWCu"
      },
      "execution_count": null,
      "outputs": []
    },
    {
      "cell_type": "markdown",
      "source": [
        "**Model**\n",
        "* Logistic regression model is almost identical to linear regression model - weights & bias matrices, output is `pred = x @ w.t() + b`\n",
        "* Use nn.Linear to create model\n",
        "* nn.Linear expects each training example to be a vector (single number of input vars)\n",
        "  * Each image tensor needs to be flattened into vector of size 784 (1\\*28\\*28)\n",
        "* Output is vector of size 10 - each element is probability that image is particular label\n",
        "  * Prediction = label w/ highest probability"
      ],
      "metadata": {
        "id": "OD13hBKUkbZd"
      }
    },
    {
      "cell_type": "code",
      "source": [
        "import torch.nn as nn\n",
        "\n",
        "input_size = 28 * 28\n",
        "num_classes = 10\n",
        "\n",
        "# logistic regression model\n",
        "model = nn.Linear(input_size, num_classes)"
      ],
      "metadata": {
        "id": "w_ZJa5ZgnBmJ"
      },
      "execution_count": null,
      "outputs": []
    },
    {
      "cell_type": "code",
      "source": [
        "print(model.weight.shape)\n",
        "print(model.weight)"
      ],
      "metadata": {
        "colab": {
          "base_uri": "https://localhost:8080/"
        },
        "id": "wJ5n13Q9nlUr",
        "outputId": "5b196a4b-4f09-4e1d-ebfa-c001125bb2a7"
      },
      "execution_count": null,
      "outputs": [
        {
          "output_type": "stream",
          "name": "stdout",
          "text": [
            "torch.Size([10, 784])\n",
            "Parameter containing:\n",
            "tensor([[ 0.0020,  0.0189,  0.0159,  ..., -0.0208,  0.0226,  0.0059],\n",
            "        [ 0.0061,  0.0095, -0.0272,  ..., -0.0111,  0.0350, -0.0329],\n",
            "        [ 0.0247,  0.0122,  0.0287,  ..., -0.0166,  0.0143,  0.0101],\n",
            "        ...,\n",
            "        [-0.0215, -0.0238,  0.0269,  ...,  0.0210, -0.0046, -0.0143],\n",
            "        [-0.0050,  0.0229, -0.0208,  ...,  0.0289,  0.0162, -0.0114],\n",
            "        [-0.0169, -0.0334, -0.0045,  ..., -0.0050,  0.0182, -0.0238]],\n",
            "       requires_grad=True)\n"
          ]
        }
      ]
    },
    {
      "cell_type": "code",
      "source": [
        "print(model.bias.shape)\n",
        "print(model.bias)"
      ],
      "metadata": {
        "colab": {
          "base_uri": "https://localhost:8080/"
        },
        "id": "Hiw30-0Xnx1y",
        "outputId": "3f42e6e9-c4e4-49b3-d49e-ca612429c1c0"
      },
      "execution_count": null,
      "outputs": [
        {
          "output_type": "stream",
          "name": "stdout",
          "text": [
            "torch.Size([10])\n",
            "Parameter containing:\n",
            "tensor([-0.0157, -0.0140,  0.0192,  0.0184,  0.0236, -0.0004,  0.0116, -0.0187,\n",
            "        -0.0346, -0.0171], requires_grad=True)\n"
          ]
        }
      ]
    },
    {
      "cell_type": "code",
      "source": [
        "# get first batch of training images and pass into model\n",
        "for images, labels in train_loader:\n",
        "  print(labels)\n",
        "  print(images.shape)\n",
        "  # outputs = model(images)\n",
        "\n",
        "  # ...except we can't do this bc inputs don't have right shape\n",
        "  # image tensors are 1x28x28 but we need vectors of size 28*28 = 784\n",
        "  # we need to flatten the image tensors\n",
        "  break"
      ],
      "metadata": {
        "colab": {
          "base_uri": "https://localhost:8080/"
        },
        "id": "Tigt9qJjos5W",
        "outputId": "56ff5899-8e74-42b5-cc24-1ee84b1cc081"
      },
      "execution_count": null,
      "outputs": [
        {
          "output_type": "stream",
          "name": "stdout",
          "text": [
            "tensor([2, 4, 0, 0, 7, 8, 8, 4, 7, 4, 4, 9, 8, 3, 0, 9, 6, 3, 7, 2, 9, 3, 7, 2,\n",
            "        5, 3, 4, 2, 2, 2, 5, 4, 8, 1, 4, 0, 8, 4, 7, 3, 5, 2, 8, 7, 4, 5, 9, 2,\n",
            "        8, 4, 3, 3, 3, 0, 9, 0, 0, 5, 9, 4, 9, 7, 3, 6, 1, 7, 3, 3, 9, 5, 1, 0,\n",
            "        5, 6, 6, 8, 9, 4, 2, 9, 4, 0, 0, 2, 9, 3, 8, 5, 4, 4, 3, 1, 7, 6, 2, 7,\n",
            "        9, 4, 8, 9, 1, 4, 6, 7, 5, 5, 7, 6, 0, 6, 1, 6, 1, 5, 1, 2, 0, 8, 7, 6,\n",
            "        2, 2, 9, 0, 7, 6, 0, 6])\n",
            "torch.Size([128, 1, 28, 28])\n"
          ]
        }
      ]
    },
    {
      "cell_type": "markdown",
      "source": [
        "To include the necessary flattening of our inputs within our model, we need to define a custom model by extending the nn.Module class."
      ],
      "metadata": {
        "id": "V1dZHZhmp8xR"
      }
    },
    {
      "cell_type": "code",
      "source": [
        "class MnistModel(nn.Module): # extends nn.Module\n",
        "  # constructor\n",
        "  def __init__(self):\n",
        "    super().__init__()\n",
        "    self.linear = nn.Linear(input_size, num_classes)\n",
        "\n",
        "  # xb - batch of inputs\n",
        "  def forward(self, xb):\n",
        "    # .reshape returns tensor w/ same elements but w/ specified shape\n",
        "    # batch shape is 128 x 1 x 28 x 28 (128 is batch size)\n",
        "    # want to reshape to 128 x 784, so we could do:\n",
        "    #   xb = xb.reshape(128, 784)\n",
        "    # passing in -1 tells pytorch to infer size of that dim based on orig shape\n",
        "    # this allows us to avoid hardcoding the batch size in the model\n",
        "    xb = xb.reshape(-1, 784)\n",
        "    # pass batch of flattened vectors into self.linear and return output\n",
        "    out = self.linear(xb)\n",
        "    return out\n",
        "\n",
        "model = MnistModel()"
      ],
      "metadata": {
        "id": "ATMSgdBOpuT_"
      },
      "execution_count": null,
      "outputs": []
    },
    {
      "cell_type": "code",
      "source": [
        "# model is no longer an nn.Linear object, so it no longer has .weight and .bias\n",
        "# they are now inside model.linear\n",
        "print(model.linear.weight.shape, model.linear.bias.shape)\n",
        "# model does still have .parameters() method\n",
        "# returns list containing weights and biases\n",
        "print(list(model.parameters()))"
      ],
      "metadata": {
        "colab": {
          "base_uri": "https://localhost:8080/"
        },
        "id": "51vPMxudthAX",
        "outputId": "92249fe3-7761-4ce5-8d59-907ba4120b6e"
      },
      "execution_count": null,
      "outputs": [
        {
          "output_type": "stream",
          "name": "stdout",
          "text": [
            "torch.Size([10, 784]) torch.Size([10])\n",
            "[Parameter containing:\n",
            "tensor([[-0.0334, -0.0070, -0.0332,  ...,  0.0231,  0.0013, -0.0110],\n",
            "        [ 0.0191, -0.0132, -0.0070,  ...,  0.0018,  0.0006, -0.0088],\n",
            "        [-0.0257, -0.0172, -0.0253,  ..., -0.0019, -0.0009,  0.0314],\n",
            "        ...,\n",
            "        [ 0.0203, -0.0353, -0.0188,  ..., -0.0253, -0.0266, -0.0222],\n",
            "        [ 0.0255, -0.0050,  0.0284,  ...,  0.0209, -0.0116, -0.0197],\n",
            "        [ 0.0283, -0.0333,  0.0226,  ...,  0.0307,  0.0299,  0.0203]],\n",
            "       requires_grad=True), Parameter containing:\n",
            "tensor([ 0.0315,  0.0006, -0.0352, -0.0234,  0.0123, -0.0268, -0.0178, -0.0027,\n",
            "         0.0050, -0.0287], requires_grad=True)]\n"
          ]
        }
      ]
    },
    {
      "cell_type": "code",
      "source": [
        "# pass first batch of images into our model\n",
        "for images, labels in train_loader:\n",
        "  outputs = model.forward(images)\n",
        "  break\n",
        "\n",
        "print('outputs.shape : ', outputs.shape)\n",
        "print('sample outputs :\\n', outputs[:2].data)"
      ],
      "metadata": {
        "colab": {
          "base_uri": "https://localhost:8080/"
        },
        "id": "K527f10CucMB",
        "outputId": "89d0532e-73a3-454f-9ee6-4c10bdfc1337"
      },
      "execution_count": null,
      "outputs": [
        {
          "output_type": "stream",
          "name": "stdout",
          "text": [
            "outputs.shape :  torch.Size([128, 10])\n",
            "sample outputs :\n",
            " tensor([[-0.0811,  0.1199,  0.1751, -0.0394,  0.4406,  0.0087, -0.1907, -0.0787,\n",
            "         -0.2714, -0.1794],\n",
            "        [-0.2358, -0.0058, -0.0769, -0.1733, -0.0738, -0.0344, -0.0507,  0.1223,\n",
            "         -0.0493, -0.1230]])\n"
          ]
        }
      ]
    },
    {
      "cell_type": "code",
      "source": [
        "# can convert set of outputs to probabilities using softmax function\n",
        "# example with first output:\n",
        "exps = torch.exp(outputs[0]) # exponentiate to make nums positive\n",
        "print('exps: ', exps)\n",
        "probs = exps / torch.sum(exps) # divide by sum so they add up to 1\n",
        "print('probs: ', probs)"
      ],
      "metadata": {
        "colab": {
          "base_uri": "https://localhost:8080/"
        },
        "id": "QznUWke11KRS",
        "outputId": "782f2811-0a8a-422a-bed0-2e71aae61abe"
      },
      "execution_count": null,
      "outputs": [
        {
          "output_type": "stream",
          "name": "stdout",
          "text": [
            "exps:  tensor([0.9221, 1.1274, 1.1914, 0.9614, 1.5536, 1.0087, 0.8264, 0.9243, 0.7623,\n",
            "        0.8358], grad_fn=<ExpBackward0>)\n",
            "probs:  tensor([0.0912, 0.1115, 0.1178, 0.0951, 0.1536, 0.0997, 0.0817, 0.0914, 0.0754,\n",
            "        0.0826], grad_fn=<DivBackward0>)\n"
          ]
        }
      ]
    },
    {
      "cell_type": "code",
      "source": [
        "# we will use softmax implementation provided within pytorch\n",
        "# works well w/ multidimensional tensors\n",
        "# included in torch.nn.functional package\n",
        "import torch.nn.functional as F"
      ],
      "metadata": {
        "id": "f2uHmJE82Xad"
      },
      "execution_count": null,
      "outputs": []
    },
    {
      "cell_type": "code",
      "source": [
        "# need to specify the dimension along which softmax is applied\n",
        "# dim 1 is inner dim (bc 0-based indexing) - elements are outputs for each label\n",
        "# we want to apply softmax along each row, not along the entire batch\n",
        "probs = F.softmax(outputs, dim=1)\n",
        "\n",
        "# look at sample probabilities\n",
        "print(\"Sample probabilities:\\n\", probs[:2].data)\n",
        "\n",
        "# add  up probabilities of first output row (should be 1)\n",
        "print(\"Sum: \", torch.sum(probs[0]).item())"
      ],
      "metadata": {
        "colab": {
          "base_uri": "https://localhost:8080/"
        },
        "id": "tietyIgY26I6",
        "outputId": "a4cb7eec-742f-4b73-c1e3-e5a88d93b428"
      },
      "execution_count": null,
      "outputs": [
        {
          "output_type": "stream",
          "name": "stdout",
          "text": [
            "Sample probabilities:\n",
            " tensor([[0.0912, 0.1115, 0.1178, 0.0951, 0.1536, 0.0997, 0.0817, 0.0914, 0.0754,\n",
            "         0.0826],\n",
            "        [0.0844, 0.1062, 0.0989, 0.0898, 0.0992, 0.1032, 0.1015, 0.1207, 0.1017,\n",
            "         0.0944]])\n",
            "Sum:  0.9999999403953552\n"
          ]
        }
      ]
    },
    {
      "cell_type": "code",
      "source": [
        "# determine predicted label by choosing index of element w/ highest prob\n",
        "# torch.max returns (largest element, index) along specified dim\n",
        "max_probs, preds = torch.max(probs, dim=1)\n",
        "print(preds)\n",
        "print(max_probs)"
      ],
      "metadata": {
        "colab": {
          "base_uri": "https://localhost:8080/"
        },
        "id": "5yTlXpWC6g6d",
        "outputId": "8541b557-ce31-4ebb-8f63-97d6006e1584"
      },
      "execution_count": null,
      "outputs": [
        {
          "output_type": "stream",
          "name": "stdout",
          "text": [
            "tensor([4, 7, 2, 7, 1, 2, 1, 9, 7, 7, 2, 7, 4, 4, 6, 9, 2, 4, 4, 7, 2, 6, 7, 1,\n",
            "        4, 1, 4, 1, 2, 0, 1, 7, 7, 4, 2, 4, 4, 0, 1, 4, 4, 1, 4, 7, 4, 1, 6, 9,\n",
            "        1, 1, 1, 4, 1, 6, 5, 7, 7, 1, 6, 4, 1, 1, 1, 1, 4, 4, 4, 7, 4, 1, 1, 1,\n",
            "        6, 7, 8, 9, 9, 4, 1, 9, 2, 7, 1, 6, 4, 1, 1, 7, 1, 5, 7, 1, 7, 7, 4, 4,\n",
            "        4, 7, 4, 7, 7, 4, 4, 4, 7, 7, 4, 7, 4, 4, 4, 7, 9, 4, 1, 4, 4, 7, 9, 2,\n",
            "        2, 7, 4, 7, 4, 4, 4, 4])\n",
            "tensor([0.1536, 0.1207, 0.1244, 0.1127, 0.1355, 0.1140, 0.1249, 0.1225, 0.1460,\n",
            "        0.1283, 0.1235, 0.1457, 0.1521, 0.1310, 0.1168, 0.1352, 0.1455, 0.1390,\n",
            "        0.1177, 0.1182, 0.1062, 0.1269, 0.1364, 0.1199, 0.1403, 0.1359, 0.1263,\n",
            "        0.1413, 0.1251, 0.1140, 0.1341, 0.1323, 0.1448, 0.1267, 0.1478, 0.1438,\n",
            "        0.1385, 0.1285, 0.1356, 0.1485, 0.1569, 0.1477, 0.1473, 0.1248, 0.1228,\n",
            "        0.1470, 0.1230, 0.1181, 0.1198, 0.1448, 0.1240, 0.1306, 0.1346, 0.1247,\n",
            "        0.1379, 0.1319, 0.1287, 0.1428, 0.1299, 0.1701, 0.1302, 0.1181, 0.1390,\n",
            "        0.1243, 0.1444, 0.1679, 0.1409, 0.1315, 0.1487, 0.1358, 0.1413, 0.1252,\n",
            "        0.1423, 0.1219, 0.1084, 0.1431, 0.1302, 0.1601, 0.1349, 0.1204, 0.1412,\n",
            "        0.1448, 0.1266, 0.1175, 0.1278, 0.1422, 0.1433, 0.1300, 0.1446, 0.1180,\n",
            "        0.1357, 0.1542, 0.1491, 0.1233, 0.1214, 0.1360, 0.1363, 0.1175, 0.1251,\n",
            "        0.1167, 0.1389, 0.1480, 0.1212, 0.1311, 0.1244, 0.1190, 0.1667, 0.1265,\n",
            "        0.1386, 0.1421, 0.1278, 0.1302, 0.1229, 0.1424, 0.1503, 0.1460, 0.1176,\n",
            "        0.1310, 0.1153, 0.1276, 0.1295, 0.1248, 0.1218, 0.1214, 0.1512, 0.1467,\n",
            "        0.1270, 0.1297], grad_fn=<MaxBackward0>)\n"
          ]
        }
      ]
    },
    {
      "cell_type": "code",
      "source": [
        "# compare with actual labels\n",
        "labels\n",
        "# completely different bc started w/ random weights & biases"
      ],
      "metadata": {
        "colab": {
          "base_uri": "https://localhost:8080/"
        },
        "id": "KEBylq4Z63Pc",
        "outputId": "82cf4034-448f-48ed-d2ef-abbc5bbd9aef"
      },
      "execution_count": null,
      "outputs": [
        {
          "output_type": "execute_result",
          "data": {
            "text/plain": [
              "tensor([4, 6, 0, 1, 7, 9, 5, 0, 0, 1, 2, 8, 3, 8, 0, 2, 4, 7, 7, 1, 2, 1, 0, 0,\n",
              "        6, 5, 9, 3, 5, 7, 7, 3, 8, 7, 9, 8, 5, 6, 2, 9, 4, 3, 2, 3, 7, 5, 5, 4,\n",
              "        6, 3, 7, 2, 3, 1, 7, 8, 6, 2, 1, 2, 4, 6, 8, 6, 7, 4, 8, 5, 2, 8, 4, 8,\n",
              "        3, 1, 7, 6, 3, 2, 4, 3, 0, 0, 3, 0, 5, 7, 2, 1, 9, 0, 2, 8, 0, 1, 0, 8,\n",
              "        4, 0, 8, 8, 0, 9, 7, 4, 1, 5, 9, 1, 9, 2, 7, 6, 5, 2, 3, 4, 4, 9, 9, 0,\n",
              "        4, 3, 7, 1, 8, 2, 8, 6])"
            ]
          },
          "metadata": {},
          "execution_count": 27
        }
      ]
    },
    {
      "cell_type": "markdown",
      "source": [
        "**Evaluation Metric and Loss Function**\n",
        "* Need a way to evaluate how well model is performing\n",
        "* Natural way is to find % of labels predicted correctly\n",
        "\n"
      ],
      "metadata": {
        "id": "MTZQiiPs7OYA"
      }
    },
    {
      "cell_type": "code",
      "source": [
        "# calculate percentage of labels predicted correctly given output probs\n",
        "def accuracy(outputs, labels):\n",
        "  # we don't need to softmax outputs since it doesn't change relative order\n",
        "  # i.e. if y1 > y2, then after applying softmax, y1 > y2 still holds\n",
        "  _, preds = torch.max(outputs, dim=1)\n",
        "  # preds == labels does element-wise comparison - stores 1 if true, 0 if false\n",
        "  # so sum(preds == labels) gives total num of correct predictions\n",
        "  # divide by total num of predictions made to get accuracy percentage\n",
        "  return torch.tensor(torch.sum(preds == labels).item() / len(preds))"
      ],
      "metadata": {
        "id": "Eh4sfV497QoK"
      },
      "execution_count": null,
      "outputs": []
    },
    {
      "cell_type": "code",
      "source": [
        "# calculate accuracy of current model\n",
        "accuracy(outputs, labels)"
      ],
      "metadata": {
        "colab": {
          "base_uri": "https://localhost:8080/"
        },
        "id": "EPhznfZZSWK8",
        "outputId": "35c48c61-450a-4505-e8d8-52ae9be766ed"
      },
      "execution_count": null,
      "outputs": [
        {
          "output_type": "execute_result",
          "data": {
            "text/plain": [
              "tensor(0.0781)"
            ]
          },
          "metadata": {},
          "execution_count": 29
        }
      ]
    },
    {
      "cell_type": "markdown",
      "source": [
        "Accuracy is great for humans, but it can't be used as a loss function for optimizing our model using gradient descent.\n",
        "* max and == are non-differentiable operations\n",
        "* Doesn't take into account actual probabilities, so can't provide sufficient feedback for incremental improvements\n",
        "\n",
        "A commonly-used loss function for classification is **cross entropy**.\n",
        "* For each output row, pick predicted probability for correct label\n",
        "* Take logarithm of picked probability\n",
        "  * Notice: probability 1 has a log of 0, low probabilities give large negative values\n",
        "* Multiply by -1 so large negative values --> large positive values\n",
        "* Loss = average of cross entropy across all output rows"
      ],
      "metadata": {
        "id": "NZgdYmtkUhrB"
      }
    },
    {
      "cell_type": "code",
      "source": [
        "# pytorch provides implementation of cross entropy in torch.nn.functional\n",
        "# also performs softmax internally, so we can directly pass in outputs of model\n",
        "loss_fn = F.cross_entropy"
      ],
      "metadata": {
        "id": "ldAQkrr_YH--"
      },
      "execution_count": null,
      "outputs": []
    },
    {
      "cell_type": "code",
      "source": [
        "# loss for current batch of data\n",
        "loss = loss_fn(outputs, labels)\n",
        "print(loss)"
      ],
      "metadata": {
        "colab": {
          "base_uri": "https://localhost:8080/"
        },
        "id": "3A7MjTreYcxT",
        "outputId": "ad9d4174-a2f3-4f8b-9e7c-7b878c8aa970"
      },
      "execution_count": null,
      "outputs": [
        {
          "output_type": "stream",
          "name": "stdout",
          "text": [
            "tensor(2.3561, grad_fn=<NllLossBackward0>)\n"
          ]
        }
      ]
    },
    {
      "cell_type": "markdown",
      "source": [
        "**Training the model**\n",
        "\n",
        "Training phase steps:\n",
        "1. Generate predictions\n",
        "2. Calculate loss\n",
        "3. Compute gradients\n",
        "4. Update weights and biases\n",
        "5. Reset gradients\n",
        "\n",
        "Validation phase steps:\n",
        "1. Generate predictions\n",
        "2. Calculate loss\n",
        "3. Calculate metrics (accuracy etc.)\n",
        "4. After all batches, calculate average validation loss & metrics"
      ],
      "metadata": {
        "id": "Mgc496OYay3p"
      }
    },
    {
      "cell_type": "code",
      "source": [
        "class MnistModel(nn.Module):\n",
        "  # constructor\n",
        "  def __init__(self):\n",
        "    super().__init__()\n",
        "    self.linear = nn.Linear(input_size, num_classes)\n",
        "  \n",
        "  # generate output probabilities from batch of flattened input vectors\n",
        "  def forward(self, xb):\n",
        "    xb = xb.reshape(-1, 784)\n",
        "    out = self.linear(xb)\n",
        "    return out\n",
        "  \n",
        "  # makes predictions w/ batch and returns loss\n",
        "  def training_step(self, batch):\n",
        "    images, labels = batch\n",
        "    # passes in images to model itself, which calls forward()\n",
        "    # this behavior is defined inside nn.Module\n",
        "    out = self(images) # generate predictions\n",
        "    loss = F.cross_entropy(out, labels) # calculate loss\n",
        "    return loss\n",
        "\n",
        "  # returns validation loss & accuracy for one batch\n",
        "  def validation_step(self, batch):\n",
        "    images, labels = batch\n",
        "    out = self(images) # generate predictions\n",
        "    loss = F.cross_entropy(out, labels) # calculate loss\n",
        "    acc = accuracy(out, labels) # calculate accuracy\n",
        "    return {'val_loss': loss, 'val_acc': acc}\n",
        "\n",
        "  # returns average validation loss & accuracy\n",
        "  # outputs parameter is list containing loss & accuracy for each batch\n",
        "  def validation_epoch_end(self, outputs):\n",
        "    # get list containing loss for each validation batch\n",
        "    batch_losses = [x['val_loss'] for x in outputs]\n",
        "    # torch.stack concatenates sequence of tensors along single dimension\n",
        "    # here we use .stack to turn list of tensors into tensor of tensors\n",
        "    # then we take the average of the losses in this epoch\n",
        "    epoch_loss = torch.stack(batch_losses).mean()\n",
        "    # likewise, calculate average accuracy in this epoch\n",
        "    batch_accs = [x['val_acc'] for x in outputs]\n",
        "    epoch_acc = torch.stack(batch_accs).mean()\n",
        "    return {'val_loss': epoch_loss.item(), 'val_acc': epoch_acc.item()}\n",
        "\n",
        "  # prints epoch number, validation loss, validation accuracy\n",
        "  def epoch_end(self, epoch, result):\n",
        "    print(f\"Epoch [{epoch}], val_loss: {result['val_loss']:.4f}, val acc: {result['val_acc']:.4f}\")\n",
        "  \n",
        "model = MnistModel()"
      ],
      "metadata": {
        "id": "9hsoHINZayiG"
      },
      "execution_count": null,
      "outputs": []
    },
    {
      "cell_type": "code",
      "source": [
        "# evaluate function to perform validation phase\n",
        "def evaluate(model, val_loader):\n",
        "  # for each batch in validation loader, call validation step, which returns\n",
        "  # loss & accuracy in an object. these objects are combined into a list.\n",
        "  outputs = [model.validation_step(batch) for batch in val_loader]\n",
        "  # after all validation batches, call validation_epoch_end to calculate average\n",
        "  # validation loss & accuracy\n",
        "  return model.validation_epoch_end(outputs)"
      ],
      "metadata": {
        "id": "4oSiMSLpiIbQ"
      },
      "execution_count": null,
      "outputs": []
    },
    {
      "cell_type": "code",
      "source": [
        "# fit function used to train the model\n",
        "def fit(epochs, lr, model, train_loader, val_loader, opt_func=torch.optim.SGD):\n",
        "  # keep track of validation loss & accuracy after every epoch\n",
        "  history = []\n",
        "  # create optimizer that uses specified optimizing function - SGD by default\n",
        "  optimizer = opt_func(model.parameters(), lr)\n",
        "\n",
        "  for epoch in range(epochs):\n",
        "    # training phase\n",
        "    for batch in train_loader:\n",
        "      loss = model.training_step(batch) # generate predictions & calculate loss\n",
        "      loss.backward() # compute gradients of loss w.r.t. parameters\n",
        "      optimizer.step() # update parameters using gradients\n",
        "      optimizer.zero_grad() # reset gradients to zero\n",
        "    \n",
        "    # validation phase\n",
        "    result = evaluate(model, val_loader) # evaluate model for all validation batches\n",
        "    model.epoch_end(epoch, result) # print result at end of epoch\n",
        "    history.append(result) # store validation loss & accuracy for this epoch\n",
        "  \n",
        "  return history"
      ],
      "metadata": {
        "id": "0czzlLA8kJQ4"
      },
      "execution_count": null,
      "outputs": []
    },
    {
      "cell_type": "code",
      "source": [
        "# evaluation of model w/ random parameters\n",
        "result0 = evaluate(model, val_loader)\n",
        "result0"
      ],
      "metadata": {
        "colab": {
          "base_uri": "https://localhost:8080/"
        },
        "id": "rtbTGqJDkMAx",
        "outputId": "38bee3d1-da60-4edd-b85d-3650e62a343e"
      },
      "execution_count": null,
      "outputs": [
        {
          "output_type": "execute_result",
          "data": {
            "text/plain": [
              "{'val_loss': 2.3266661167144775, 'val_acc': 0.10423259437084198}"
            ]
          },
          "metadata": {},
          "execution_count": 37
        }
      ]
    },
    {
      "cell_type": "code",
      "source": [
        "# train model for 5 epochs and look at results\n",
        "history1 = fit(5, 0.001, model, train_loader, val_loader)"
      ],
      "metadata": {
        "colab": {
          "base_uri": "https://localhost:8080/"
        },
        "id": "Ca6X-hhonCEZ",
        "outputId": "a0e2b737-5eea-460e-db86-2f2fb3d4dcd7"
      },
      "execution_count": null,
      "outputs": [
        {
          "output_type": "stream",
          "name": "stdout",
          "text": [
            "Epoch [0], val_loss: 1.9461, val acc: 0.6323\n",
            "Epoch [1], val_loss: 1.6744, val acc: 0.7381\n",
            "Epoch [2], val_loss: 1.4728, val acc: 0.7668\n",
            "Epoch [3], val_loss: 1.3213, val acc: 0.7849\n",
            "Epoch [4], val_loss: 1.2051, val acc: 0.7981\n"
          ]
        }
      ]
    },
    {
      "cell_type": "code",
      "source": [
        "history2 = fit(5, 0.001, model, train_loader, val_loader)"
      ],
      "metadata": {
        "colab": {
          "base_uri": "https://localhost:8080/"
        },
        "id": "hDJsdyuGnp7c",
        "outputId": "37a11b32-79cf-4788-83c9-da7ac74a9edc"
      },
      "execution_count": null,
      "outputs": [
        {
          "output_type": "stream",
          "name": "stdout",
          "text": [
            "Epoch [0], val_loss: 1.1140, val acc: 0.8068\n",
            "Epoch [1], val_loss: 1.0410, val acc: 0.8127\n",
            "Epoch [2], val_loss: 0.9814, val acc: 0.8190\n",
            "Epoch [3], val_loss: 0.9319, val acc: 0.8227\n",
            "Epoch [4], val_loss: 0.8901, val acc: 0.8278\n"
          ]
        }
      ]
    },
    {
      "cell_type": "code",
      "source": [
        "history3 = fit(5, 0.001, model, train_loader, val_loader)"
      ],
      "metadata": {
        "colab": {
          "base_uri": "https://localhost:8080/"
        },
        "id": "cP0K4lain4Oe",
        "outputId": "92337a74-965e-4a0c-95a8-742e6b176219"
      },
      "execution_count": null,
      "outputs": [
        {
          "output_type": "stream",
          "name": "stdout",
          "text": [
            "Epoch [0], val_loss: 0.8543, val acc: 0.8320\n",
            "Epoch [1], val_loss: 0.8233, val acc: 0.8357\n",
            "Epoch [2], val_loss: 0.7962, val acc: 0.8386\n",
            "Epoch [3], val_loss: 0.7722, val acc: 0.8410\n",
            "Epoch [4], val_loss: 0.7509, val acc: 0.8436\n"
          ]
        }
      ]
    },
    {
      "cell_type": "code",
      "source": [
        "history4 = fit(5, 0.001, model, train_loader, val_loader)"
      ],
      "metadata": {
        "colab": {
          "base_uri": "https://localhost:8080/"
        },
        "id": "MPmPGLTGoPBH",
        "outputId": "766ca194-4160-458c-9730-0581de9d916c"
      },
      "execution_count": null,
      "outputs": [
        {
          "output_type": "stream",
          "name": "stdout",
          "text": [
            "Epoch [0], val_loss: 0.7318, val acc: 0.8457\n",
            "Epoch [1], val_loss: 0.7145, val acc: 0.8480\n",
            "Epoch [2], val_loss: 0.6989, val acc: 0.8491\n",
            "Epoch [3], val_loss: 0.6846, val acc: 0.8514\n",
            "Epoch [4], val_loss: 0.6715, val acc: 0.8527\n"
          ]
        }
      ]
    },
    {
      "cell_type": "code",
      "source": [
        "history = [result0] + history1 + history2 + history3 + history4\n",
        "accuracies = [result['val_acc'] for result in history]\n",
        "plt.plot(accuracies, '-x')\n",
        "plt.xlabel('epoch')\n",
        "plt.ylabel('accuracy')\n",
        "plt.title('Accuracy vs. No. of epochs')"
      ],
      "metadata": {
        "colab": {
          "base_uri": "https://localhost:8080/",
          "height": 312
        },
        "id": "Qm4DVJfUoQPh",
        "outputId": "cb086b65-3b7a-4ea2-88bf-893e93e32ba6"
      },
      "execution_count": null,
      "outputs": [
        {
          "output_type": "execute_result",
          "data": {
            "text/plain": [
              "Text(0.5, 1.0, 'Accuracy vs. No. of epochs')"
            ]
          },
          "metadata": {},
          "execution_count": 44
        },
        {
          "output_type": "display_data",
          "data": {
            "text/plain": [
              "<Figure size 432x288 with 1 Axes>"
            ],
            "image/png": "[encoded data removed]"
          },
          "metadata": {
            "needs_background": "light"
          }
        }
      ]
    },
    {
      "cell_type": "markdown",
      "source": [
        "**Testing with individual images**"
      ],
      "metadata": {
        "id": "fC-3GBgQpmjM"
      }
    },
    {
      "cell_type": "code",
      "source": [
        "# define test dataset\n",
        "test_dataset = MNIST(root='data/',\n",
        "                     train=False,\n",
        "                     transform=transforms.ToTensor())"
      ],
      "metadata": {
        "id": "G3_ctAU6pqEF"
      },
      "execution_count": null,
      "outputs": []
    },
    {
      "cell_type": "code",
      "source": [
        "# predict_image function returns predicted label for single image tensor\n",
        "def predict_image(img, model):\n",
        "  # MnistModel takes in a batch, not a single image\n",
        "  # use .unsqueeze to add a single outer dimension - now batch of 1 image\n",
        "  xb = img.unsqueeze(0)\n",
        "  # generate prediction (remember: nn.Module automatically invokes forward())\n",
        "  yb = model(xb)\n",
        "  # yb is set of probabilities - want index of max prob\n",
        "  _, preds = torch.max(yb, dim=1)\n",
        "  # preds contains max index for every batch - want it for first (and only) batch\n",
        "  return preds[0].item()"
      ],
      "metadata": {
        "id": "WedG5MPlpya8"
      },
      "execution_count": null,
      "outputs": []
    },
    {
      "cell_type": "code",
      "source": [
        "img, label = test_dataset[0]\n",
        "# img is a tensor, index 0 selects first (and only) color channel bc grayscale\n",
        "plt.imshow(img[0], cmap='gray')\n",
        "print(f'Label: {label}, Predicted: {predict_image(img, model)}')"
      ],
      "metadata": {
        "colab": {
          "base_uri": "https://localhost:8080/",
          "height": 282
        },
        "id": "B0nGjI6Ts0Ep",
        "outputId": "4542dba5-1949-475c-db41-c381a93437e5"
      },
      "execution_count": null,
      "outputs": [
        {
          "output_type": "stream",
          "name": "stdout",
          "text": [
            "Label: 7, Predicted: 7\n"
          ]
        },
        {
          "output_type": "display_data",
          "data": {
            "text/plain": [
              "<Figure size 432x288 with 1 Axes>"
            ],
            "image/png": "[encoded data removed]"
          },
          "metadata": {
            "needs_background": "light"
          }
        }
      ]
    },
    {
      "cell_type": "code",
      "source": [
        "img, label = test_dataset[42]\n",
        "plt.imshow(img[0], cmap='gray')\n",
        "print(f'Label: {label}, Predicted: {predict_image(img, model)}')"
      ],
      "metadata": {
        "colab": {
          "base_uri": "https://localhost:8080/",
          "height": 282
        },
        "id": "ikMm0i5Ktt7j",
        "outputId": "4a3cc0b7-a301-4d96-955e-865964df2375"
      },
      "execution_count": null,
      "outputs": [
        {
          "output_type": "stream",
          "name": "stdout",
          "text": [
            "Label: 4, Predicted: 4\n"
          ]
        },
        {
          "output_type": "display_data",
          "data": {
            "text/plain": [
              "<Figure size 432x288 with 1 Axes>"
            ],
            "image/png": "[encoded data removed]"
          },
          "metadata": {
            "needs_background": "light"
          }
        }
      ]
    },
    {
      "cell_type": "code",
      "source": [
        "# this is a tough one...\n",
        "img, label = test_dataset[193]\n",
        "plt.imshow(img[0], cmap='gray')\n",
        "print(f'Label: {label}, Predicted: {predict_image(img, model)}')"
      ],
      "metadata": {
        "colab": {
          "base_uri": "https://localhost:8080/",
          "height": 282
        },
        "id": "EE8KNg5jt4Ns",
        "outputId": "d4ea00bb-4fef-4e6f-fd49-a4a4ba2971c6"
      },
      "execution_count": null,
      "outputs": [
        {
          "output_type": "stream",
          "name": "stdout",
          "text": [
            "Label: 9, Predicted: 9\n"
          ]
        },
        {
          "output_type": "display_data",
          "data": {
            "text/plain": [
              "<Figure size 432x288 with 1 Axes>"
            ],
            "image/png": "[encoded data removed]"
          },
          "metadata": {
            "needs_background": "light"
          }
        }
      ]
    },
    {
      "cell_type": "code",
      "source": [
        "# another tough one...\n",
        "img, label = test_dataset[1839]\n",
        "plt.imshow(img[0], cmap='gray')\n",
        "print(f'Label: {label}, Predicted: {predict_image(img, model)}')"
      ],
      "metadata": {
        "colab": {
          "base_uri": "https://localhost:8080/",
          "height": 282
        },
        "id": "8aBhcn8ct82m",
        "outputId": "bf188a0c-ca53-4c0a-ee13-97279977d9e8"
      },
      "execution_count": null,
      "outputs": [
        {
          "output_type": "stream",
          "name": "stdout",
          "text": [
            "Label: 2, Predicted: 8\n"
          ]
        },
        {
          "output_type": "display_data",
          "data": {
            "text/plain": [
              "<Figure size 432x288 with 1 Axes>"
            ],
            "image/png": "[encoded data removed]"
          },
          "metadata": {
            "needs_background": "light"
          }
        }
      ]
    },
    {
      "cell_type": "markdown",
      "source": [
        "**Overall loss and accuracy of model on test set**"
      ],
      "metadata": {
        "id": "tZlnUge5vFSu"
      }
    },
    {
      "cell_type": "code",
      "source": [
        "# look at overall loss & accuracy of model on the test set\n",
        "test_loader = DataLoader(test_dataset, batch_size=256)\n",
        "result = evaluate(model, test_loader)\n",
        "print(result)\n",
        "# we expect this to be similar to loss & accuracy on validation set\n",
        "# if not, might need better validation set w/ similar data & distribution as test set"
      ],
      "metadata": {
        "colab": {
          "base_uri": "https://localhost:8080/"
        },
        "id": "0RcTw2J_uSrP",
        "outputId": "5a1e8a42-7a89-4882-9a24-126f63dd6249"
      },
      "execution_count": null,
      "outputs": [
        {
          "output_type": "stream",
          "name": "stdout",
          "text": [
            "{'val_loss': 0.640568733215332, 'val_acc': 0.860156238079071}\n"
          ]
        }
      ]
    },
    {
      "cell_type": "markdown",
      "source": [
        "**Saving and loading the model**"
      ],
      "metadata": {
        "id": "mcunW4Vvvelx"
      }
    },
    {
      "cell_type": "code",
      "source": [
        "# .state_dict returns OrderedDict containing all weights & bias matrices\n",
        "model.state_dict()"
      ],
      "metadata": {
        "colab": {
          "base_uri": "https://localhost:8080/"
        },
        "id": "ZIHrBM8nvxfk",
        "outputId": "4cbf96da-b314-43a4-d6ba-f301bcd207fa"
      },
      "execution_count": null,
      "outputs": [
        {
          "output_type": "execute_result",
          "data": {
            "text/plain": [
              "OrderedDict([('linear.weight',\n",
              "              tensor([[-0.0195, -0.0134, -0.0347,  ..., -0.0266,  0.0289, -0.0127],\n",
              "                      [-0.0231, -0.0032,  0.0272,  ..., -0.0131, -0.0241,  0.0013],\n",
              "                      [-0.0010,  0.0286, -0.0201,  ..., -0.0268,  0.0034, -0.0313],\n",
              "                      ...,\n",
              "                      [-0.0169, -0.0120, -0.0161,  ...,  0.0020, -0.0100, -0.0270],\n",
              "                      [-0.0136, -0.0294,  0.0049,  ...,  0.0281,  0.0120,  0.0257],\n",
              "                      [-0.0226, -0.0304,  0.0284,  ..., -0.0340,  0.0018, -0.0120]])),\n",
              "             ('linear.bias',\n",
              "              tensor([-0.0306,  0.1125, -0.0178, -0.0265,  0.0266,  0.0558,  0.0163,  0.0460,\n",
              "                      -0.1181,  0.0201]))])"
            ]
          },
          "metadata": {},
          "execution_count": 52
        }
      ]
    },
    {
      "cell_type": "code",
      "source": [
        "# save weights & bias matrices to disk so we can reuse model later\n",
        "torch.save(model.state_dict(), 'mnist-logistic.pth')"
      ],
      "metadata": {
        "id": "vvZF51Y8vgUt"
      },
      "execution_count": null,
      "outputs": []
    },
    {
      "cell_type": "code",
      "source": [
        "# load weights by instantiating MnistModel class and using .load_state_dict\n",
        "model2 = MnistModel()\n",
        "model2.load_state_dict(torch.load('mnist-logistic.pth'))\n",
        "print(model2.state_dict())"
      ],
      "metadata": {
        "colab": {
          "base_uri": "https://localhost:8080/"
        },
        "id": "WnmK7pMrwBkg",
        "outputId": "48eedf39-6c1b-46d9-b260-2c661b3b438f"
      },
      "execution_count": null,
      "outputs": [
        {
          "output_type": "stream",
          "name": "stdout",
          "text": [
            "OrderedDict([('linear.weight', tensor([[-0.0195, -0.0134, -0.0347,  ..., -0.0266,  0.0289, -0.0127],\n",
            "        [-0.0231, -0.0032,  0.0272,  ..., -0.0131, -0.0241,  0.0013],\n",
            "        [-0.0010,  0.0286, -0.0201,  ..., -0.0268,  0.0034, -0.0313],\n",
            "        ...,\n",
            "        [-0.0169, -0.0120, -0.0161,  ...,  0.0020, -0.0100, -0.0270],\n",
            "        [-0.0136, -0.0294,  0.0049,  ...,  0.0281,  0.0120,  0.0257],\n",
            "        [-0.0226, -0.0304,  0.0284,  ..., -0.0340,  0.0018, -0.0120]])), ('linear.bias', tensor([-0.0306,  0.1125, -0.0178, -0.0265,  0.0266,  0.0558,  0.0163,  0.0460,\n",
            "        -0.1181,  0.0201]))])\n"
          ]
        }
      ]
    },
    {
      "cell_type": "code",
      "source": [
        "# sanity check: verify this model has same loss & accuracy on test set as before\n",
        "test_loader = DataLoader(test_dataset, batch_size=256)\n",
        "result = evaluate(model2, test_loader)\n",
        "result"
      ],
      "metadata": {
        "colab": {
          "base_uri": "https://localhost:8080/"
        },
        "id": "ZTr0W0HDwgHZ",
        "outputId": "2217fd78-a9e7-41f8-e019-4a461fa86f47"
      },
      "execution_count": null,
      "outputs": [
        {
          "output_type": "execute_result",
          "data": {
            "text/plain": [
              "{'val_loss': 0.640568733215332, 'val_acc': 0.860156238079071}"
            ]
          },
          "metadata": {},
          "execution_count": 55
        }
      ]
    }
  ]
}