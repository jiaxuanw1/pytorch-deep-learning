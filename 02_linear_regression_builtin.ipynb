{
  "nbformat": 4,
  "nbformat_minor": 0,
  "metadata": {
    "colab": {
      "provenance": [],
      "authorship_tag": "ABX9TyNJ0tL9ldXtNX3bhF6AHC+X"
    },
    "kernelspec": {
      "name": "python3",
      "display_name": "Python 3"
    },
    "language_info": {
      "name": "python"
    }
  },
  "cells": [
    {
      "cell_type": "markdown",
      "source": [
        "**Linear regression using PyTorch built-ins**\n",
        "- The model and training process we used is a very common pattern\n",
        "- PyTorch has several built-in functions and classes to make it easier"
      ],
      "metadata": {
        "id": "FRDy7axDQpzt"
      }
    },
    {
      "cell_type": "code",
      "source": [
        "import numpy as np\n",
        "import torch\n",
        "# contains utility classes for building neural networks\n",
        "import torch.nn as nn"
      ],
      "metadata": {
        "id": "bN1LubfkRGv4"
      },
      "execution_count": 1,
      "outputs": []
    },
    {
      "cell_type": "code",
      "source": [
        "# inputs (temp, rainfall, humidity)\n",
        "inputs = np.array([[73, 67, 43],\n",
        "                   [91, 88, 64],\n",
        "                   [87, 134, 58],\n",
        "                   [102, 43, 37],\n",
        "                   [69, 96, 70],\n",
        "                   [74, 66, 43],\n",
        "                   [91, 87, 65],\n",
        "                   [88, 134, 59],\n",
        "                   [101, 44, 37],\n",
        "                   [68, 96, 71],\n",
        "                   [73, 66, 44],\n",
        "                   [92, 87, 64],\n",
        "                   [87, 135, 57],\n",
        "                   [103, 43, 36],\n",
        "                   [68, 97, 70]],\n",
        "                  dtype='float32')\n",
        "\n",
        "# targets (apples, oranges)\n",
        "targets = np.array([[56, 70],\n",
        "                    [81, 101],\n",
        "                    [119, 133],\n",
        "                    [22, 37],\n",
        "                    [103, 119],\n",
        "                    [57, 69],\n",
        "                    [80, 102],\n",
        "                    [118, 132],\n",
        "                    [21, 38],\n",
        "                    [104, 118],\n",
        "                    [57, 69],\n",
        "                    [82, 100],\n",
        "                    [118, 134],\n",
        "                    [20, 38],\n",
        "                    [102, 120]],\n",
        "                   dtype='float32')\n",
        "\n",
        "# convert data into tensors\n",
        "inputs = torch.from_numpy(inputs)\n",
        "targets = torch.from_numpy(targets)"
      ],
      "metadata": {
        "id": "GNXOpi9MRm_6"
      },
      "execution_count": 2,
      "outputs": []
    },
    {
      "cell_type": "markdown",
      "source": [
        "**Dataset and DataLoader**\n",
        "- TensorDataset allows access to rows of inputs and targets as tuples\n",
        "- Provides standard APIs for working with many different types of datasets"
      ],
      "metadata": {
        "id": "DDVbiih_SH-h"
      }
    },
    {
      "cell_type": "code",
      "source": [
        "from torch.utils.data import TensorDataset"
      ],
      "metadata": {
        "id": "BCTMS8u2SMb8"
      },
      "execution_count": 3,
      "outputs": []
    },
    {
      "cell_type": "code",
      "source": [
        "# define dataset\n",
        "train_ds = TensorDataset(inputs, targets)\n",
        "# use array indexing notation to access section of training data\n",
        "# returns tuple of tensors (inputs, targets)\n",
        "train_ds[0:3]"
      ],
      "metadata": {
        "colab": {
          "base_uri": "https://localhost:8080/"
        },
        "id": "s5t68pa9SdGo",
        "outputId": "aae1dbc0-e5ec-434d-d47b-0c668d237424"
      },
      "execution_count": 4,
      "outputs": [
        {
          "output_type": "execute_result",
          "data": {
            "text/plain": [
              "(tensor([[ 73.,  67.,  43.],\n",
              "         [ 91.,  88.,  64.],\n",
              "         [ 87., 134.,  58.]]), tensor([[ 56.,  70.],\n",
              "         [ 81., 101.],\n",
              "         [119., 133.]]))"
            ]
          },
          "metadata": {},
          "execution_count": 4
        }
      ]
    },
    {
      "cell_type": "code",
      "source": [
        "# DataLoader can split data into batches of predefined size while training\n",
        "# also provides other utilities - shuffling, random sampling\n",
        "from torch.utils.data import DataLoader"
      ],
      "metadata": {
        "id": "sC2Uymc-TSHk"
      },
      "execution_count": 5,
      "outputs": []
    },
    {
      "cell_type": "code",
      "source": [
        "# define data loader\n",
        "batch_size = 5\n",
        "train_dl = DataLoader(train_ds, batch_size, shuffle=True)\n",
        "# shuffle=True randomly shuffles rows before creating batches\n",
        "# more randomization --> better training"
      ],
      "metadata": {
        "id": "ZBNDhm9UTktd"
      },
      "execution_count": 6,
      "outputs": []
    },
    {
      "cell_type": "code",
      "source": [
        "# data loader typically used in for-in loop\n",
        "# each iteration returns one batch of data w/ the given batch size\n",
        "for xb, yb in train_dl:\n",
        "  print(\"batch:\")\n",
        "  print(xb)\n",
        "  print(yb)"
      ],
      "metadata": {
        "colab": {
          "base_uri": "https://localhost:8080/"
        },
        "id": "153j0b8dUICt",
        "outputId": "05fb92ca-5712-4d47-cf17-12688b2f7228"
      },
      "execution_count": 7,
      "outputs": [
        {
          "output_type": "stream",
          "name": "stdout",
          "text": [
            "batch:\n",
            "tensor([[ 92.,  87.,  64.],\n",
            "        [ 74.,  66.,  43.],\n",
            "        [ 91.,  87.,  65.],\n",
            "        [ 69.,  96.,  70.],\n",
            "        [ 87., 135.,  57.]])\n",
            "tensor([[ 82., 100.],\n",
            "        [ 57.,  69.],\n",
            "        [ 80., 102.],\n",
            "        [103., 119.],\n",
            "        [118., 134.]])\n",
            "batch:\n",
            "tensor([[ 87., 134.,  58.],\n",
            "        [ 68.,  97.,  70.],\n",
            "        [ 68.,  96.,  71.],\n",
            "        [102.,  43.,  37.],\n",
            "        [ 88., 134.,  59.]])\n",
            "tensor([[119., 133.],\n",
            "        [102., 120.],\n",
            "        [104., 118.],\n",
            "        [ 22.,  37.],\n",
            "        [118., 132.]])\n",
            "batch:\n",
            "tensor([[ 73.,  66.,  44.],\n",
            "        [103.,  43.,  36.],\n",
            "        [101.,  44.,  37.],\n",
            "        [ 73.,  67.,  43.],\n",
            "        [ 91.,  88.,  64.]])\n",
            "tensor([[ 57.,  69.],\n",
            "        [ 20.,  38.],\n",
            "        [ 21.,  38.],\n",
            "        [ 56.,  70.],\n",
            "        [ 81., 101.]])\n"
          ]
        }
      ]
    },
    {
      "cell_type": "markdown",
      "source": [
        "**nn.Linear**\n",
        "- Define model using nn.Linear\n",
        "- Initializes weights and biases automatically"
      ],
      "metadata": {
        "id": "LFpA3o--VBPV"
      }
    },
    {
      "cell_type": "code",
      "source": [
        "# define model\n",
        "model = nn.Linear(3, 2) # parameters: num inputs, num outputs (targets)\n",
        "print(model.weight)\n",
        "print(model.bias)"
      ],
      "metadata": {
        "colab": {
          "base_uri": "https://localhost:8080/"
        },
        "id": "nBJFOjpwVD5-",
        "outputId": "e17bc5c2-3fca-4aa8-e42e-fdc3665eaa7d"
      },
      "execution_count": 8,
      "outputs": [
        {
          "output_type": "stream",
          "name": "stdout",
          "text": [
            "Parameter containing:\n",
            "tensor([[-0.5110,  0.4001,  0.3474],\n",
            "        [-0.2289, -0.4924,  0.3901]], requires_grad=True)\n",
            "Parameter containing:\n",
            "tensor([-0.4123,  0.1375], requires_grad=True)\n"
          ]
        }
      ]
    },
    {
      "cell_type": "code",
      "source": [
        "# .parameters() returns list containing all weight and bias matrices in model\n",
        "# our model has only 1 weight matrix and 1 bias matrix\n",
        "list(model.parameters())"
      ],
      "metadata": {
        "colab": {
          "base_uri": "https://localhost:8080/"
        },
        "id": "IPOjx9yNVkXT",
        "outputId": "b4866c98-f01c-4507-c85c-8cf76ed8b78e"
      },
      "execution_count": 9,
      "outputs": [
        {
          "output_type": "execute_result",
          "data": {
            "text/plain": [
              "[Parameter containing:\n",
              " tensor([[-0.5110,  0.4001,  0.3474],\n",
              "         [-0.2289, -0.4924,  0.3901]], requires_grad=True),\n",
              " Parameter containing:\n",
              " tensor([-0.4123,  0.1375], requires_grad=True)]"
            ]
          },
          "metadata": {},
          "execution_count": 9
        }
      ]
    },
    {
      "cell_type": "code",
      "source": [
        "# generate predictions\n",
        "preds = model(inputs)\n",
        "preds"
      ],
      "metadata": {
        "colab": {
          "base_uri": "https://localhost:8080/"
        },
        "id": "r15ycOxYV8_S",
        "outputId": "33439397-d7d0-4696-bbc5-3bf21d1d7e55"
      },
      "execution_count": 10,
      "outputs": [
        {
          "output_type": "execute_result",
          "data": {
            "text/plain": [
              "tensor([[  4.0239, -32.7915],\n",
              "        [ 10.5216, -39.0606],\n",
              "        [ 28.8840, -63.1380],\n",
              "        [-22.4814, -29.9523],\n",
              "        [ 27.0489, -35.6232],\n",
              "        [  3.1129, -32.5280],\n",
              "        [ 10.4690, -38.1780],\n",
              "        [ 28.7204, -62.9768],\n",
              "        [-21.5703, -30.2158],\n",
              "        [ 27.9073, -35.0042],\n",
              "        [  3.9713, -31.9090],\n",
              "        [  9.6105, -38.7971],\n",
              "        [ 28.9367, -64.0206],\n",
              "        [-23.3398, -30.5713],\n",
              "        [ 27.9600, -35.8868]], grad_fn=<AddmmBackward0>)"
            ]
          },
          "metadata": {},
          "execution_count": 10
        }
      ]
    },
    {
      "cell_type": "markdown",
      "source": [
        "**Loss Function**\n",
        "- Uses built-in loss function mse_loss"
      ],
      "metadata": {
        "id": "wK_g2hRzWRW5"
      }
    },
    {
      "cell_type": "code",
      "source": [
        "# nn.functional package contains many useful loss functions and other utils\n",
        "import torch.nn.functional as F"
      ],
      "metadata": {
        "id": "9V8FQe5hWSro"
      },
      "execution_count": 11,
      "outputs": []
    },
    {
      "cell_type": "code",
      "source": [
        "# define loss function\n",
        "loss_fn = F.mse_loss"
      ],
      "metadata": {
        "id": "CL0k0cggWsDd"
      },
      "execution_count": 12,
      "outputs": []
    },
    {
      "cell_type": "code",
      "source": [
        "# compute loss for current predictions\n",
        "loss = loss_fn(model(inputs), targets)\n",
        "print(loss)"
      ],
      "metadata": {
        "colab": {
          "base_uri": "https://localhost:8080/"
        },
        "id": "h5Q5wa8OWwBp",
        "outputId": "10cc5dbc-4da0-4413-b2e9-02efc9ebd3bb"
      },
      "execution_count": 13,
      "outputs": [
        {
          "output_type": "stream",
          "name": "stdout",
          "text": [
            "tensor(12031.2285, grad_fn=<MseLossBackward0>)\n"
          ]
        }
      ]
    },
    {
      "cell_type": "markdown",
      "source": [
        "**Optimizer**\n",
        "- Use optimizer optim.SGD instead of modifying weights and biases using gradients\n",
        "- SGD - stochastic gradient descent\n",
        "- stochastic - samples are selected in (often random) batches instead of as a single group"
      ],
      "metadata": {
        "id": "ZilA6_mkXBMN"
      }
    },
    {
      "cell_type": "code",
      "source": [
        "# model.parameters() passed in so optimizer knows which matrices to modify\n",
        "# lr = learning rate\n",
        "opt = torch.optim.SGD(model.parameters(), lr=1e-5)"
      ],
      "metadata": {
        "id": "DZkaA2ztXnSp"
      },
      "execution_count": 19,
      "outputs": []
    },
    {
      "cell_type": "markdown",
      "source": [
        "**Training the model**\n",
        "\n",
        "Same process as before:\n",
        "\n",
        "1. Generate predictions\n",
        "2. Calculate loss\n",
        "3. Compute gradients w.r.t. weights and biases\n",
        "4. Adjust weights by subtacting small quantity proportional to gradient\n",
        "5. Reset gradients to 0"
      ],
      "metadata": {
        "id": "PpWgo37RadS8"
      }
    },
    {
      "cell_type": "code",
      "source": [
        "# utility function to train model for given number of epochs\n",
        "def fit(num_epochs, model, loss_fn, opt, train_dl):\n",
        "\n",
        "  # repeat for given number of epochs\n",
        "  for epoch in range(num_epochs):\n",
        "\n",
        "    # train w/ batches of data\n",
        "    for xb, yb in train_dl:\n",
        "\n",
        "      # 1. generate predictions\n",
        "      pred = model(xb)\n",
        "\n",
        "      # 2. calculate loss\n",
        "      loss = loss_fn(pred, yb)\n",
        "\n",
        "      # 3. compute gradients\n",
        "      loss.backward()\n",
        "\n",
        "      # 4. update parameters using gradients\n",
        "      opt.step()\n",
        "\n",
        "      # 5. reset gradients to zero\n",
        "      opt.zero_grad()\n",
        "\n",
        "    # print progress every 10 epochs\n",
        "    if (epoch + 1) % 10 == 0:\n",
        "      print(f\"Epoch [{epoch + 1}/{num_epochs}], Loss: {round(loss.item(), 4)}\")"
      ],
      "metadata": {
        "id": "WAbE353XawX-"
      },
      "execution_count": 21,
      "outputs": []
    },
    {
      "cell_type": "code",
      "source": [
        "# train model for 100 epochs\n",
        "fit(100, model, loss_fn, opt, train_dl)"
      ],
      "metadata": {
        "colab": {
          "base_uri": "https://localhost:8080/"
        },
        "id": "soGzF7AqcX5_",
        "outputId": "87cfe24a-2f25-4e32-8f56-3aabbfb97e8e"
      },
      "execution_count": 22,
      "outputs": [
        {
          "output_type": "stream",
          "name": "stdout",
          "text": [
            "Epoch [10/100], Loss: 4.8482\n",
            "Epoch [20/100], Loss: 1.5326\n",
            "Epoch [30/100], Loss: 2.7389\n",
            "Epoch [40/100], Loss: 3.6306\n",
            "Epoch [50/100], Loss: 2.9668\n",
            "Epoch [60/100], Loss: 0.997\n",
            "Epoch [70/100], Loss: 1.2882\n",
            "Epoch [80/100], Loss: 1.9628\n",
            "Epoch [90/100], Loss: 1.702\n",
            "Epoch [100/100], Loss: 1.7025\n"
          ]
        }
      ]
    },
    {
      "cell_type": "code",
      "source": [
        "# generate predictions\n",
        "preds = model(inputs)\n",
        "preds"
      ],
      "metadata": {
        "colab": {
          "base_uri": "https://localhost:8080/"
        },
        "id": "ZL3IyZjeduc9",
        "outputId": "fc5ae4bf-7b5d-408d-e376-5caeaba261d0"
      },
      "execution_count": 23,
      "outputs": [
        {
          "output_type": "execute_result",
          "data": {
            "text/plain": [
              "tensor([[ 56.9938,  70.5560],\n",
              "        [ 81.6100, 100.6300],\n",
              "        [119.1809, 132.2672],\n",
              "        [ 21.3434,  38.6005],\n",
              "        [100.7312, 118.1984],\n",
              "        [ 55.7461,  69.5031],\n",
              "        [ 81.3769, 100.7370],\n",
              "        [119.4325, 132.8806],\n",
              "        [ 22.5911,  39.6534],\n",
              "        [101.7458, 119.3583],\n",
              "        [ 56.7607,  70.6630],\n",
              "        [ 80.3624,  99.5771],\n",
              "        [119.4140, 132.1602],\n",
              "        [ 20.3289,  37.4406],\n",
              "        [101.9789, 119.2513]], grad_fn=<AddmmBackward0>)"
            ]
          },
          "metadata": {},
          "execution_count": 23
        }
      ]
    },
    {
      "cell_type": "code",
      "source": [
        "# compare with targets\n",
        "targets"
      ],
      "metadata": {
        "colab": {
          "base_uri": "https://localhost:8080/"
        },
        "id": "QgbYn53wd3cO",
        "outputId": "3e4e5627-ef88-43a8-ebd5-c2dff8ea084c"
      },
      "execution_count": 24,
      "outputs": [
        {
          "output_type": "execute_result",
          "data": {
            "text/plain": [
              "tensor([[ 56.,  70.],\n",
              "        [ 81., 101.],\n",
              "        [119., 133.],\n",
              "        [ 22.,  37.],\n",
              "        [103., 119.],\n",
              "        [ 57.,  69.],\n",
              "        [ 80., 102.],\n",
              "        [118., 132.],\n",
              "        [ 21.,  38.],\n",
              "        [104., 118.],\n",
              "        [ 57.,  69.],\n",
              "        [ 82., 100.],\n",
              "        [118., 134.],\n",
              "        [ 20.,  38.],\n",
              "        [102., 120.]])"
            ]
          },
          "metadata": {},
          "execution_count": 24
        }
      ]
    }
  ]
}